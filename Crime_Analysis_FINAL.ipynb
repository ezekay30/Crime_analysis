{
  "cells": [
    {
      "cell_type": "markdown",
      "metadata": {
        "id": "view-in-github",
        "colab_type": "text"
      },
      "source": [
        "<a href=\"https://colab.research.google.com/github/ezekay30/Crime_analysis/blob/master/Crime_Analysis_FINAL.ipynb\" target=\"_parent\"><img src=\"https://colab.research.google.com/assets/colab-badge.svg\" alt=\"Open In Colab\"/></a>"
      ]
    },
    {
      "cell_type": "markdown",
      "source": [
        "**Install pyspark library**"
      ],
      "metadata": {
        "id": "Nhb5eydRktl-"
      }
    },
    {
      "cell_type": "code",
      "source": [
        "!pip install pyspark"
      ],
      "metadata": {
        "colab": {
          "base_uri": "https://localhost:8080/"
        },
        "id": "7kGdSe_OCtmM",
        "outputId": "22da1348-6689-458d-ee25-7ba169252dee"
      },
      "execution_count": 1,
      "outputs": [
        {
          "output_type": "stream",
          "name": "stdout",
          "text": [
            "Collecting pyspark\n",
            "  Downloading pyspark-3.5.0.tar.gz (316.9 MB)\n",
            "\u001b[2K     \u001b[90m━━━━━━━━━━━━━━━━━━━━━━━━━━━━━━━━━━━━━━━━\u001b[0m \u001b[32m316.9/316.9 MB\u001b[0m \u001b[31m2.3 MB/s\u001b[0m eta \u001b[36m0:00:00\u001b[0m\n",
            "\u001b[?25h  Preparing metadata (setup.py) ... \u001b[?25l\u001b[?25hdone\n",
            "Requirement already satisfied: py4j==0.10.9.7 in /usr/local/lib/python3.10/dist-packages (from pyspark) (0.10.9.7)\n",
            "Building wheels for collected packages: pyspark\n",
            "  Building wheel for pyspark (setup.py) ... \u001b[?25l\u001b[?25hdone\n",
            "  Created wheel for pyspark: filename=pyspark-3.5.0-py2.py3-none-any.whl size=317425345 sha256=8bcf3b5d165c50bfd47f486bae3aadc1edba6d03e3030b43607dcb09186712ac\n",
            "  Stored in directory: /root/.cache/pip/wheels/41/4e/10/c2cf2467f71c678cfc8a6b9ac9241e5e44a01940da8fbb17fc\n",
            "Successfully built pyspark\n",
            "Installing collected packages: pyspark\n",
            "Successfully installed pyspark-3.5.0\n"
          ]
        }
      ]
    },
    {
      "cell_type": "markdown",
      "source": [
        "**Get dataset from my github account**"
      ],
      "metadata": {
        "id": "mQGjCmcIk8wU"
      }
    },
    {
      "cell_type": "code",
      "source": [
        "!git clone https://github.com/ezekay30/Crime_analysis/"
      ],
      "metadata": {
        "colab": {
          "base_uri": "https://localhost:8080/"
        },
        "id": "4uMJVSI8CwUG",
        "outputId": "ad5f970d-eb9c-478c-b8e8-2c44490e51bf"
      },
      "execution_count": 2,
      "outputs": [
        {
          "output_type": "stream",
          "name": "stdout",
          "text": [
            "Cloning into 'Crime_analysis'...\n",
            "remote: Enumerating objects: 54, done.\u001b[K\n",
            "remote: Counting objects: 100% (54/54), done.\u001b[K\n",
            "remote: Compressing objects: 100% (45/45), done.\u001b[K\n",
            "remote: Total 54 (delta 7), reused 52 (delta 5), pack-reused 0\u001b[K\n",
            "Receiving objects: 100% (54/54), 14.08 MiB | 19.60 MiB/s, done.\n",
            "Resolving deltas: 100% (7/7), done.\n"
          ]
        }
      ]
    },
    {
      "cell_type": "markdown",
      "source": [
        "**Install libraries for hypothesis testing and data encoding**"
      ],
      "metadata": {
        "id": "wYpyf8G1lSI8"
      }
    },
    {
      "cell_type": "code",
      "source": [
        "!pip install pingouin category_encoders"
      ],
      "metadata": {
        "colab": {
          "base_uri": "https://localhost:8080/"
        },
        "id": "dDFTwk-ED1Qa",
        "outputId": "f1b97fb7-d229-43c3-cbcf-c33f6f171e1c"
      },
      "execution_count": 3,
      "outputs": [
        {
          "output_type": "stream",
          "name": "stdout",
          "text": [
            "Collecting pingouin\n",
            "  Downloading pingouin-0.5.4-py2.py3-none-any.whl (198 kB)\n",
            "\u001b[2K     \u001b[90m━━━━━━━━━━━━━━━━━━━━━━━━━━━━━━━━━━━━━━━━\u001b[0m \u001b[32m198.9/198.9 kB\u001b[0m \u001b[31m3.4 MB/s\u001b[0m eta \u001b[36m0:00:00\u001b[0m\n",
            "\u001b[?25hCollecting category_encoders\n",
            "  Downloading category_encoders-2.6.3-py2.py3-none-any.whl (81 kB)\n",
            "\u001b[2K     \u001b[90m━━━━━━━━━━━━━━━━━━━━━━━━━━━━━━━━━━━━━━━━\u001b[0m \u001b[32m81.9/81.9 kB\u001b[0m \u001b[31m8.3 MB/s\u001b[0m eta \u001b[36m0:00:00\u001b[0m\n",
            "\u001b[?25hRequirement already satisfied: numpy in /usr/local/lib/python3.10/dist-packages (from pingouin) (1.23.5)\n",
            "Requirement already satisfied: scipy in /usr/local/lib/python3.10/dist-packages (from pingouin) (1.11.4)\n",
            "Requirement already satisfied: pandas>=1.5 in /usr/local/lib/python3.10/dist-packages (from pingouin) (1.5.3)\n",
            "Requirement already satisfied: matplotlib in /usr/local/lib/python3.10/dist-packages (from pingouin) (3.7.1)\n",
            "Requirement already satisfied: seaborn in /usr/local/lib/python3.10/dist-packages (from pingouin) (0.13.1)\n",
            "Requirement already satisfied: statsmodels in /usr/local/lib/python3.10/dist-packages (from pingouin) (0.14.1)\n",
            "Requirement already satisfied: scikit-learn in /usr/local/lib/python3.10/dist-packages (from pingouin) (1.2.2)\n",
            "Collecting pandas-flavor (from pingouin)\n",
            "  Downloading pandas_flavor-0.6.0-py3-none-any.whl (7.2 kB)\n",
            "Requirement already satisfied: tabulate in /usr/local/lib/python3.10/dist-packages (from pingouin) (0.9.0)\n",
            "Requirement already satisfied: patsy>=0.5.1 in /usr/local/lib/python3.10/dist-packages (from category_encoders) (0.5.6)\n",
            "Requirement already satisfied: python-dateutil>=2.8.1 in /usr/local/lib/python3.10/dist-packages (from pandas>=1.5->pingouin) (2.8.2)\n",
            "Requirement already satisfied: pytz>=2020.1 in /usr/local/lib/python3.10/dist-packages (from pandas>=1.5->pingouin) (2023.3.post1)\n",
            "Requirement already satisfied: six in /usr/local/lib/python3.10/dist-packages (from patsy>=0.5.1->category_encoders) (1.16.0)\n",
            "Requirement already satisfied: joblib>=1.1.1 in /usr/local/lib/python3.10/dist-packages (from scikit-learn->pingouin) (1.3.2)\n",
            "Requirement already satisfied: threadpoolctl>=2.0.0 in /usr/local/lib/python3.10/dist-packages (from scikit-learn->pingouin) (3.2.0)\n",
            "Requirement already satisfied: packaging>=21.3 in /usr/local/lib/python3.10/dist-packages (from statsmodels->pingouin) (23.2)\n",
            "Requirement already satisfied: contourpy>=1.0.1 in /usr/local/lib/python3.10/dist-packages (from matplotlib->pingouin) (1.2.0)\n",
            "Requirement already satisfied: cycler>=0.10 in /usr/local/lib/python3.10/dist-packages (from matplotlib->pingouin) (0.12.1)\n",
            "Requirement already satisfied: fonttools>=4.22.0 in /usr/local/lib/python3.10/dist-packages (from matplotlib->pingouin) (4.47.2)\n",
            "Requirement already satisfied: kiwisolver>=1.0.1 in /usr/local/lib/python3.10/dist-packages (from matplotlib->pingouin) (1.4.5)\n",
            "Requirement already satisfied: pillow>=6.2.0 in /usr/local/lib/python3.10/dist-packages (from matplotlib->pingouin) (9.4.0)\n",
            "Requirement already satisfied: pyparsing>=2.3.1 in /usr/local/lib/python3.10/dist-packages (from matplotlib->pingouin) (3.1.1)\n",
            "Requirement already satisfied: xarray in /usr/local/lib/python3.10/dist-packages (from pandas-flavor->pingouin) (2023.7.0)\n",
            "Installing collected packages: pandas-flavor, category_encoders, pingouin\n",
            "Successfully installed category_encoders-2.6.3 pandas-flavor-0.6.0 pingouin-0.5.4\n"
          ]
        }
      ]
    },
    {
      "cell_type": "markdown",
      "source": [
        "Importing all necessary libraries"
      ],
      "metadata": {
        "id": "6Ej-hVX1rlIV"
      }
    },
    {
      "cell_type": "code",
      "execution_count": 4,
      "metadata": {
        "id": "MoeL3F9uCsQj"
      },
      "outputs": [],
      "source": [
        "# import libraries\n",
        "import pandas as pd\n",
        "import numpy as np\n",
        "import pyspark\n",
        "from pyspark.sql import SparkSession\n",
        "from pyspark.sql.functions import *\n",
        "import seaborn as sns\n",
        "import matplotlib.pyplot as plt\n",
        "from matplotlib import style\n",
        "style.use('ggplot')\n",
        "from pyspark.ml.stat import Correlation\n",
        "import pingouin as pg\n",
        "from sklearn.linear_model import LinearRegression\n",
        "from sklearn.ensemble import RandomForestClassifier\n",
        "from sklearn.tree import DecisionTreeClassifier\n",
        "from category_encoders import OrdinalEncoder, OneHotEncoder\n",
        "from sklearn.metrics import *\n",
        "from sklearn.model_selection import train_test_split"
      ]
    },
    {
      "cell_type": "markdown",
      "source": [
        "## Loading the datasets\n",
        "- Initiates a spark session using pyspark library\n",
        "- Takes path of reference and offence dataset into a variable\n",
        "- uses pandas to load dataset from each file path into `ref`  and `tables`\n",
        "\n",
        "Libraries used:\n",
        "1. Pandas\n",
        "2. pyspark"
      ],
      "metadata": {
        "id": "SRIZtXlKuHyn"
      }
    },
    {
      "cell_type": "code",
      "execution_count": 5,
      "metadata": {
        "id": "fpc7Clw3CsQo"
      },
      "outputs": [],
      "source": [
        "# Create spark session\n",
        "spark = SparkSession.builder.master(\"local[*]\").appName('Analysis').getOrCreate()\n",
        "\n",
        "# File paths\n",
        "ref_filepath = '/content/Crime_analysis/datasets/reccrime-offence-ref.xlsx'\n",
        "offence_filepath = '/content/Crime_analysis/datasets/prc-pfa-mar2013-onwards-tables-191023.xlsx'\n",
        "\n",
        "# Load excel datasets into pandas dataframes\n",
        "ref = pd.read_excel(ref_filepath)\n",
        "tables = pd.read_excel(offence_filepath, sheet_name=None)"
      ]
    },
    {
      "cell_type": "markdown",
      "source": [
        "## Extracts Individual year from `tables`\n",
        "- uses pandas `to_excel` method to save each selected year as an excel file"
      ],
      "metadata": {
        "id": "Ec5wqTiwvYHH"
      }
    },
    {
      "cell_type": "code",
      "source": [
        "# Save sheets in workbook to storage for easier usage\n",
        "tables['2019-20'].to_excel('2019.xlsx')\n",
        "tables['2020-21'].to_excel('2020.xlsx')\n",
        "tables['2021-22'].to_excel('2021.xlsx')\n",
        "tables['2022-23'].to_excel('2022.xlsx')\n",
        "tables['2023-24'].to_excel('2023.xlsx')\n",
        "\n",
        "# ---- follow above format to extract and save more datasets\n"
      ],
      "metadata": {
        "id": "Rb3do30qtbDK"
      },
      "execution_count": 6,
      "outputs": []
    },
    {
      "cell_type": "markdown",
      "source": [
        "## Loads extracted data into pandas\n",
        "- using the pandas `read_excel` method to load each year into pandas dataframe"
      ],
      "metadata": {
        "id": "kMgR5mjpyObK"
      }
    },
    {
      "cell_type": "code",
      "execution_count": 7,
      "metadata": {
        "id": "bD40bYltCsQq"
      },
      "outputs": [],
      "source": [
        "# Select the table of interest and create a dataframe\n",
        "yr_2019 = pd.read_excel('./2019.xlsx')\n",
        "yr_2020 = pd.read_excel('./2020.xlsx')\n",
        "yr_2021 = pd.read_excel('./2021.xlsx')\n",
        "yr_2022 = pd.read_excel('./2022.xlsx')\n",
        "yr_2023 = pd.read_excel('./2023.xlsx')"
      ]
    },
    {
      "cell_type": "markdown",
      "source": [
        "## Converting pandas dataframe into pypspark dataframe\n",
        "- Uses pyspark `createDataFrame` method to create pyspark dataframe\n",
        "\n",
        "- Library used:\n",
        "1. Pyspark"
      ],
      "metadata": {
        "id": "3oxfHl4IyqpJ"
      }
    },
    {
      "cell_type": "code",
      "execution_count": 8,
      "metadata": {
        "id": "2gECl83ICsQq"
      },
      "outputs": [],
      "source": [
        "# Convert each year and reference to pyspark dataframe\n",
        "reference = spark.createDataFrame(ref)\n",
        "df_2019 = spark.createDataFrame(yr_2019)\n",
        "df_2020 = spark.createDataFrame(yr_2020)\n",
        "df_2021 = spark.createDataFrame(yr_2021)\n",
        "df_2022 = spark.createDataFrame(yr_2022)\n",
        "df_2023 = spark.createDataFrame(yr_2023)"
      ]
    },
    {
      "cell_type": "markdown",
      "source": [
        "## Creates a temporary view of extracted years in order to use sql queries\n",
        "- uses `createOrReplaceTempView` to create temporary table, as it is a requirement to use sql queries in pyspark\n",
        "\n",
        "- Sql query to join append each successive year using `UNION` with no duplicates\n",
        "\n",
        "- Load the sql in pyspark to get back dataframe\n",
        "\n",
        "- Library used:\n",
        "  1. pyspark\n",
        "  2. sql"
      ],
      "metadata": {
        "id": "ITUbCy9NzQQR"
      }
    },
    {
      "cell_type": "code",
      "execution_count": 9,
      "metadata": {
        "id": "MXgrDTO2CsQr"
      },
      "outputs": [],
      "source": [
        "# Create temporary views( AKA TABLES) of the dataframes\n",
        "df_2019.createOrReplaceTempView('df_2019')\n",
        "df_2020.createOrReplaceTempView('df_2020')\n",
        "df_2021.createOrReplaceTempView('df_2021')\n",
        "df_2022.createOrReplaceTempView('df_2022')\n",
        "df_2023.createOrReplaceTempView('df_2023')\n",
        "\n",
        "# Write sql queries to join tables\n",
        "query_1 = \"\"\"\n",
        "                SELECT * FROM df_2019\n",
        "                UNION\n",
        "                SELECT * FROM df_2020\n",
        "                UNION\n",
        "                SELECT * FROM df_2021\n",
        "                UNION\n",
        "                SELECT * FROM df_2022\n",
        "                UNION\n",
        "                SELECT * FROM df_2023\n",
        "\"\"\"\n",
        "\n",
        "# Load query and return dataframe\n",
        "offence_df = spark.sql(query_1)"
      ]
    },
    {
      "cell_type": "markdown",
      "source": [
        "## Renaming columns to remove white spaces\n",
        "- A dictionary is created with old name and new names\n",
        "- A loop is created to items in dictionary created\n",
        "- For each iterations, the column name is changed using `withColumnRenamed` method from pyspark\n",
        "\n",
        "- Library used:\n",
        "  1. pyspark"
      ],
      "metadata": {
        "id": "xCHmz0-j00BD"
      }
    },
    {
      "cell_type": "code",
      "execution_count": 10,
      "metadata": {
        "id": "SaDWHpEYCsQs"
      },
      "outputs": [],
      "source": [
        "# Rename col to remove white space\n",
        "rename_cols = {\n",
        "                'Financial Year': 'Financial_Year',\n",
        "                'Financial Quarter':'Financial_Quarter',\n",
        "                'Force Name':'Force_Name',\n",
        "                'Offence Description':'Offence_Description',\n",
        "                'Offence Group':'Offence_Group',\n",
        "                'Offence Subgroup':'Offence_Subgroup',\n",
        "                'Offence Code':'Offence_Code',\n",
        "                'Number of Offences':'Number_of_Offences',\n",
        "                'Old PRC offence group': 'Old_PRC_offence_group',\n",
        "                'Old offence sub-group': 'Old_offence_sub-group',\n",
        "                'New ONS offence group': 'New_ONS_offence_group',\n",
        "                'New ONS sub-offence group': 'New_ONS_sub_offence_group'\n",
        "}\n",
        "\n",
        "# Loops through rename_cols and removes white space\n",
        "for old_name, new_name in rename_cols.items():\n",
        "    offence_df = offence_df.withColumnRenamed(old_name, new_name)\n",
        "    reference = reference.withColumnRenamed(old_name, new_name)\n"
      ]
    },
    {
      "cell_type": "markdown",
      "source": [
        "## Data Cleaning #1\n",
        "\n",
        "- Removes all duplicates in reference\n",
        "- Create a temporary table for sql queries\n",
        "- Sql queries written using `INNER JOIN` to return all values present in both tables\n",
        "\n",
        "Library used:\n",
        "  1. pyspark\n",
        "  2. sql"
      ],
      "metadata": {
        "id": "MWzDmOgH1hlC"
      }
    },
    {
      "cell_type": "code",
      "execution_count": 11,
      "metadata": {
        "id": "nQBLGRVRCsQv"
      },
      "outputs": [],
      "source": [
        "# Drop duplicates in offence_ref\n",
        "reference = reference.dropDuplicates()\n",
        "\n",
        "# Create temporary views of the dataframes\n",
        "offence_df.createOrReplaceTempView('offence_df')\n",
        "reference.createOrReplaceTempView('reference')\n",
        "\n",
        "# Write sql query to join tables\n",
        "query_2 = \"\"\"\n",
        "                    SELECT\n",
        "                    offence_df.*,\n",
        "                    reference.New_ONS_offence_group,\n",
        "                    reference.New_ONS_sub_offence_group\n",
        "                    FROM offence_df\n",
        "                    INNER JOIN reference\n",
        "                    ON offence_df.Offence_Code = reference.Offence_Code;\n",
        "                \"\"\"\n",
        "\n",
        "#  Create offence_final with query\n",
        "offence_skewed = spark.sql(query_2)"
      ]
    },
    {
      "cell_type": "markdown",
      "source": [
        "## Pyspark Schema"
      ],
      "metadata": {
        "id": "IyC4p3T13G62"
      }
    },
    {
      "cell_type": "code",
      "source": [
        "# Print schema\n",
        "offence_skewed.printSchema()"
      ],
      "metadata": {
        "colab": {
          "base_uri": "https://localhost:8080/"
        },
        "id": "VTXnAA_13GDB",
        "outputId": "00d39844-ae53-4d7a-fe89-bbf47f208673"
      },
      "execution_count": 12,
      "outputs": [
        {
          "output_type": "stream",
          "name": "stdout",
          "text": [
            "root\n",
            " |-- Unnamed: 0: long (nullable = true)\n",
            " |-- Financial_Year: string (nullable = true)\n",
            " |-- Financial_Quarter: long (nullable = true)\n",
            " |-- Force_Name: string (nullable = true)\n",
            " |-- Offence_Description: string (nullable = true)\n",
            " |-- Offence_Group: string (nullable = true)\n",
            " |-- Offence_Subgroup: string (nullable = true)\n",
            " |-- Offence_Code: string (nullable = true)\n",
            " |-- Number_of_Offences: long (nullable = true)\n",
            " |-- New_ONS_offence_group: string (nullable = true)\n",
            " |-- New_ONS_sub_offence_group: string (nullable = true)\n",
            "\n"
          ]
        }
      ]
    },
    {
      "cell_type": "markdown",
      "source": [
        "## Data Cleaning #2\n",
        "- Drop `Unnamed: 0` column using `drop` method from pyspark\n",
        "\n",
        "Library used:\n",
        "  1. pyspark"
      ],
      "metadata": {
        "id": "W71iGPlb2xXi"
      }
    },
    {
      "cell_type": "code",
      "source": [
        "offence_skewed = offence_skewed.drop('Unnamed: 0')"
      ],
      "metadata": {
        "id": "WXtPI5u82wrZ"
      },
      "execution_count": 13,
      "outputs": []
    },
    {
      "cell_type": "markdown",
      "source": [
        "## Print first 3 Rows\n",
        "- to check for changes"
      ],
      "metadata": {
        "id": "v4kKu7Wc2PEY"
      }
    },
    {
      "cell_type": "code",
      "execution_count": 14,
      "metadata": {
        "colab": {
          "base_uri": "https://localhost:8080/"
        },
        "id": "3jk0xkx7CsQw",
        "outputId": "3a9f7e80-3d62-414b-d13c-ecf09accfb10"
      },
      "outputs": [
        {
          "output_type": "stream",
          "name": "stdout",
          "text": [
            "+--------------+-----------------+------------------+--------------------+---------------+--------------------+------------+------------------+---------------------+-------------------------+\n",
            "|Financial_Year|Financial_Quarter|        Force_Name| Offence_Description|  Offence_Group|    Offence_Subgroup|Offence_Code|Number_of_Offences|New_ONS_offence_group|New_ONS_sub_offence_group|\n",
            "+--------------+-----------------+------------------+--------------------+---------------+--------------------+------------+------------------+---------------------+-------------------------+\n",
            "|       2019/20|                1|            Dorset|Sexual assault on...|Sexual offences|Other sexual offe...|         17A|                25|      Sexual offences|     Other sexual offe...|\n",
            "|       2019/20|                1|    Cambridgeshire|Sexual assault on...|Sexual offences|Other sexual offe...|         17A|                26|      Sexual offences|     Other sexual offe...|\n",
            "|       2019/20|                1|Greater Manchester|Sexual assault on...|Sexual offences|Other sexual offe...|         17A|                93|      Sexual offences|     Other sexual offe...|\n",
            "+--------------+-----------------+------------------+--------------------+---------------+--------------------+------------+------------------+---------------------+-------------------------+\n",
            "only showing top 3 rows\n",
            "\n"
          ]
        }
      ],
      "source": [
        "# Show first 3 rows\n",
        "offence_skewed.show(3)"
      ]
    },
    {
      "cell_type": "markdown",
      "source": [
        "## Data Cleaning #3\n",
        "- using `withColumn` and `substring`, we extract the first 4 characters from the financial year column\n",
        "\n",
        "- using the `cast` method, we change the data type of financial year to integers\n",
        "\n",
        "Library used:\n",
        "  1. pyspark"
      ],
      "metadata": {
        "id": "stMdMGv838wR"
      }
    },
    {
      "cell_type": "code",
      "execution_count": 15,
      "metadata": {
        "id": "ndS1lLYtCsQx"
      },
      "outputs": [],
      "source": [
        "# Get year from financial year column\n",
        "offence_skewed = offence_skewed.withColumn('Financial_Year',\n",
        "                                         substring('Financial_Year',  1,  4))\n",
        "\n",
        "# Convert Financial year column to int\n",
        "offence_skewed = offence_skewed.withColumn('Financial_Year',\n",
        "                                  offence_skewed.Financial_Year.cast('int'))"
      ]
    },
    {
      "cell_type": "markdown",
      "source": [
        "## Print Schema\n",
        "- to check changes in data type of `Financial_Year`"
      ],
      "metadata": {
        "id": "NCcIMWqz4g02"
      }
    },
    {
      "cell_type": "code",
      "execution_count": 16,
      "metadata": {
        "colab": {
          "base_uri": "https://localhost:8080/"
        },
        "id": "cwpP2ZmwCsQy",
        "outputId": "2682de8c-12d4-4d9e-f082-c22b0faee134"
      },
      "outputs": [
        {
          "output_type": "stream",
          "name": "stdout",
          "text": [
            "root\n",
            " |-- Financial_Year: integer (nullable = true)\n",
            " |-- Financial_Quarter: long (nullable = true)\n",
            " |-- Force_Name: string (nullable = true)\n",
            " |-- Offence_Description: string (nullable = true)\n",
            " |-- Offence_Group: string (nullable = true)\n",
            " |-- Offence_Subgroup: string (nullable = true)\n",
            " |-- Offence_Code: string (nullable = true)\n",
            " |-- Number_of_Offences: long (nullable = true)\n",
            " |-- New_ONS_offence_group: string (nullable = true)\n",
            " |-- New_ONS_sub_offence_group: string (nullable = true)\n",
            "\n"
          ]
        }
      ],
      "source": [
        "# Check to confirm change in data type\n",
        "offence_skewed.printSchema()"
      ]
    },
    {
      "cell_type": "markdown",
      "metadata": {
        "id": "fDgajqZJCsQz"
      },
      "source": [
        "## Summary Statisitics\n",
        "- Finds the total number of offences using the aggregate method `agg` and `collect`."
      ]
    },
    {
      "cell_type": "code",
      "execution_count": 17,
      "metadata": {
        "colab": {
          "base_uri": "https://localhost:8080/",
          "height": 35
        },
        "id": "8c_fFAm8CsQ1",
        "outputId": "9e7e24e2-2d1b-402f-ff94-03466574bca3"
      },
      "outputs": [
        {
          "output_type": "display_data",
          "data": {
            "text/plain": [
              "'The total sum of Number of offences from 2019-2023 is: 18978512'"
            ],
            "application/vnd.google.colaboratory.intrinsic+json": {
              "type": "string"
            }
          },
          "metadata": {}
        }
      ],
      "source": [
        "# Total num of offences\n",
        "totalsum = offence_skewed.agg(sum('Number_of_Offences')).collect()[0][0]\n",
        "display(f'The total sum of Number of offences from 2019-2023 is: {totalsum}')"
      ]
    },
    {
      "cell_type": "markdown",
      "source": [
        "## Descriptive Statisitics\n",
        "- The standard deviation `884.6` being 4 times the mean `218.7` suggests that the data is highly skewed.\n",
        "- we also note that the max is `29480` which is too high to be a valid entry\n",
        "- This was found using the `describe` method\n",
        "\n",
        "- Library used:\n",
        "    1. Pyspark"
      ],
      "metadata": {
        "id": "u7tmQP1M9hEN"
      }
    },
    {
      "cell_type": "code",
      "execution_count": 18,
      "metadata": {
        "colab": {
          "base_uri": "https://localhost:8080/"
        },
        "id": "TgbhB_tUCsQ1",
        "outputId": "3a916081-eddb-47d6-949a-d08e4e1957c6"
      },
      "outputs": [
        {
          "output_type": "stream",
          "name": "stdout",
          "text": [
            "+-------+------------------+\n",
            "|summary|Number_of_Offences|\n",
            "+-------+------------------+\n",
            "|  count|             86768|\n",
            "|   mean|218.72708832749402|\n",
            "| stddev|  884.620296000273|\n",
            "|    min|                 0|\n",
            "|    max|             29480|\n",
            "+-------+------------------+\n",
            "\n"
          ]
        }
      ],
      "source": [
        "# Descriptive statistics of  Numeric Column\n",
        "offence_skewed.describe(['Number_of_Offences']).show()"
      ]
    },
    {
      "cell_type": "markdown",
      "source": [
        "## Handling skewed Data using percentile\n",
        "- Using approxQuantile, we get the 5th and 95th percentile values\n",
        "- Using sql queries, we will only return values within the 5th and 95th percentile"
      ],
      "metadata": {
        "id": "V4sF5mN0-ENd"
      }
    },
    {
      "cell_type": "code",
      "source": [
        "# Gets the value for the 5th, 50th and 95th percentile\n",
        "offence_skewed.approxQuantile(\"Number_of_Offences\", [0.05, 0.5, 0.95], relativeError=0.01)"
      ],
      "metadata": {
        "colab": {
          "base_uri": "https://localhost:8080/"
        },
        "id": "YaUIzzG58qxs",
        "outputId": "6621db48-81a6-4096-c22b-3d00be5c290b"
      },
      "execution_count": 19,
      "outputs": [
        {
          "output_type": "execute_result",
          "data": {
            "text/plain": [
              "[0.0, 11.0, 970.0]"
            ]
          },
          "metadata": {},
          "execution_count": 19
        }
      ]
    },
    {
      "cell_type": "code",
      "source": [
        "# Print number of rows in offence skewed before handling skew\n",
        "display(f'The count of offence_skewed is: {offence_skewed.count()}')"
      ],
      "metadata": {
        "colab": {
          "base_uri": "https://localhost:8080/",
          "height": 35
        },
        "id": "2fgdydxu_Y2j",
        "outputId": "909c2066-8298-4406-b97d-81c373b8b2c4"
      },
      "execution_count": 20,
      "outputs": [
        {
          "output_type": "display_data",
          "data": {
            "text/plain": [
              "'The count of offence_skewed is: 86768'"
            ],
            "application/vnd.google.colaboratory.intrinsic+json": {
              "type": "string"
            }
          },
          "metadata": {}
        }
      ]
    },
    {
      "cell_type": "markdown",
      "source": [
        "- Use sql `WHERE` statment to filter for values between the 5th and 95th percentile\n",
        "- Convert the result back into pyspark dataframe\n",
        "\n",
        "- Library used:\n",
        "    1. pyspark\n",
        "    2. sql"
      ],
      "metadata": {
        "id": "3BID64kv_xj9"
      }
    },
    {
      "cell_type": "code",
      "source": [
        "# Create temporary view\n",
        "offence_skewed.createOrReplaceTempView('offence_skewed')\n",
        "\n",
        "# sql queries\n",
        "query_3 = \"\"\"\n",
        "        SELECT\n",
        "         *\n",
        "        FROM offence_skewed\n",
        "        WHERE Number_of_Offences >= 0 AND Number_of_Offences <= 970\n",
        "\"\"\"\n",
        "# load query and get dataframe\n",
        "offence_final = spark.sql(query_3)"
      ],
      "metadata": {
        "id": "VZ8QdDUt8-9h"
      },
      "execution_count": 21,
      "outputs": []
    },
    {
      "cell_type": "code",
      "source": [
        "# Print number of rows in offence final after handling skew\n",
        "\n",
        "display(f'The count of offence_final is: {offence_final.count()}')"
      ],
      "metadata": {
        "colab": {
          "base_uri": "https://localhost:8080/",
          "height": 35
        },
        "id": "G2uXGk6G_K18",
        "outputId": "d7a8c1c8-b765-4d5d-b819-c7b709fd26a7"
      },
      "execution_count": 22,
      "outputs": [
        {
          "output_type": "display_data",
          "data": {
            "text/plain": [
              "'The count of offence_final is: 81956'"
            ],
            "application/vnd.google.colaboratory.intrinsic+json": {
              "type": "string"
            }
          },
          "metadata": {}
        }
      ]
    },
    {
      "cell_type": "markdown",
      "source": [
        "## Total Sum of NUM of Offences\n",
        "- find the total sum of offences after handling skew"
      ],
      "metadata": {
        "id": "4c5HZEH2B4PF"
      }
    },
    {
      "cell_type": "code",
      "execution_count": 23,
      "metadata": {
        "colab": {
          "base_uri": "https://localhost:8080/",
          "height": 35
        },
        "outputId": "e27a3fe2-5696-4f4f-9fe1-2f4eb5881f19",
        "id": "9WzlPk5dD_Bn"
      },
      "outputs": [
        {
          "output_type": "display_data",
          "data": {
            "text/plain": [
              "'The total sum of Number of offences from 2019-2023 is: 6124199'"
            ],
            "application/vnd.google.colaboratory.intrinsic+json": {
              "type": "string"
            }
          },
          "metadata": {}
        }
      ],
      "source": [
        "# Total num of offences\n",
        "totalsum = offence_final.agg(sum('Number_of_Offences')).collect()[0][0]\n",
        "display(f'The total sum of Number of offences from 2019-2023 is: {totalsum}')"
      ]
    },
    {
      "cell_type": "markdown",
      "source": [
        "## Descriptive Statisitics #2\n",
        "- The standard deviation `157.4` with a mean of `74.7`\n",
        "- This was found using the `describe` method\n",
        "\n",
        "- Library used:\n",
        "    1. Pyspark"
      ],
      "metadata": {
        "id": "GzkQ8D4-OvEW"
      }
    },
    {
      "cell_type": "code",
      "source": [
        "# Descriptive statistics of  Numeric Column\n",
        "offence_final.describe(['Number_of_Offences']).show()"
      ],
      "metadata": {
        "colab": {
          "base_uri": "https://localhost:8080/"
        },
        "id": "iwO2o6U2Opj5",
        "outputId": "453db0d0-aa88-4cd7-84d8-3fd5458d8cc0"
      },
      "execution_count": 24,
      "outputs": [
        {
          "output_type": "stream",
          "name": "stdout",
          "text": [
            "+-------+------------------+\n",
            "|summary|Number_of_Offences|\n",
            "+-------+------------------+\n",
            "|  count|             81956|\n",
            "|   mean| 74.72545024159305|\n",
            "| stddev|157.39049677424788|\n",
            "|    min|                 0|\n",
            "|    max|               970|\n",
            "+-------+------------------+\n",
            "\n"
          ]
        }
      ]
    },
    {
      "cell_type": "markdown",
      "source": [
        "### Summary statistics questions:\n",
        "- What are the Top Crime Per Force for each year?\n",
        "- What is the total number of offences for each force between 2019 and 2023?\n",
        "- Which force has the highest total number of offence?"
      ],
      "metadata": {
        "id": "iBEXSLvPEgh5"
      }
    },
    {
      "cell_type": "code",
      "source": [
        "df_stat = offence_final.toPandas()"
      ],
      "metadata": {
        "id": "EjALg0c6bKDM"
      },
      "execution_count": 25,
      "outputs": []
    },
    {
      "cell_type": "markdown",
      "source": [
        "- Which force has the highest total number of offence?\n",
        "    - **Greater Manchester** : **243160**"
      ],
      "metadata": {
        "id": "uJ8nsqZV7Wgv"
      }
    },
    {
      "cell_type": "code",
      "source": [
        "force = (df_stat\n",
        "         .groupby('Force_Name')\n",
        "         .agg({'Number_of_Offences': 'sum'})\n",
        "         .sort_values(by='Number_of_Offences', ascending=False)\n",
        "         .head(5))\n",
        "force.rename(columns={'Number_of_Offences': 'Total_Number_of_Offences'})"
      ],
      "metadata": {
        "colab": {
          "base_uri": "https://localhost:8080/",
          "height": 238
        },
        "id": "JxErL8x_dh5y",
        "outputId": "953015b7-d1c4-4cdd-aaee-ada8db9924dd"
      },
      "execution_count": 26,
      "outputs": [
        {
          "output_type": "execute_result",
          "data": {
            "text/plain": [
              "                     Total_Number_of_Offences\n",
              "Force_Name                                   \n",
              "Greater Manchester                     243160\n",
              "West Yorkshire                         229302\n",
              "Metropolitan Police                    219318\n",
              "West Midlands                          210589\n",
              "Hampshire                              179166"
            ],
            "text/html": [
              "\n",
              "  <div id=\"df-51a5572e-7db0-4694-8ab8-81a967bb402f\" class=\"colab-df-container\">\n",
              "    <div>\n",
              "<style scoped>\n",
              "    .dataframe tbody tr th:only-of-type {\n",
              "        vertical-align: middle;\n",
              "    }\n",
              "\n",
              "    .dataframe tbody tr th {\n",
              "        vertical-align: top;\n",
              "    }\n",
              "\n",
              "    .dataframe thead th {\n",
              "        text-align: right;\n",
              "    }\n",
              "</style>\n",
              "<table border=\"1\" class=\"dataframe\">\n",
              "  <thead>\n",
              "    <tr style=\"text-align: right;\">\n",
              "      <th></th>\n",
              "      <th>Total_Number_of_Offences</th>\n",
              "    </tr>\n",
              "    <tr>\n",
              "      <th>Force_Name</th>\n",
              "      <th></th>\n",
              "    </tr>\n",
              "  </thead>\n",
              "  <tbody>\n",
              "    <tr>\n",
              "      <th>Greater Manchester</th>\n",
              "      <td>243160</td>\n",
              "    </tr>\n",
              "    <tr>\n",
              "      <th>West Yorkshire</th>\n",
              "      <td>229302</td>\n",
              "    </tr>\n",
              "    <tr>\n",
              "      <th>Metropolitan Police</th>\n",
              "      <td>219318</td>\n",
              "    </tr>\n",
              "    <tr>\n",
              "      <th>West Midlands</th>\n",
              "      <td>210589</td>\n",
              "    </tr>\n",
              "    <tr>\n",
              "      <th>Hampshire</th>\n",
              "      <td>179166</td>\n",
              "    </tr>\n",
              "  </tbody>\n",
              "</table>\n",
              "</div>\n",
              "    <div class=\"colab-df-buttons\">\n",
              "\n",
              "  <div class=\"colab-df-container\">\n",
              "    <button class=\"colab-df-convert\" onclick=\"convertToInteractive('df-51a5572e-7db0-4694-8ab8-81a967bb402f')\"\n",
              "            title=\"Convert this dataframe to an interactive table.\"\n",
              "            style=\"display:none;\">\n",
              "\n",
              "  <svg xmlns=\"http://www.w3.org/2000/svg\" height=\"24px\" viewBox=\"0 -960 960 960\">\n",
              "    <path d=\"M120-120v-720h720v720H120Zm60-500h600v-160H180v160Zm220 220h160v-160H400v160Zm0 220h160v-160H400v160ZM180-400h160v-160H180v160Zm440 0h160v-160H620v160ZM180-180h160v-160H180v160Zm440 0h160v-160H620v160Z\"/>\n",
              "  </svg>\n",
              "    </button>\n",
              "\n",
              "  <style>\n",
              "    .colab-df-container {\n",
              "      display:flex;\n",
              "      gap: 12px;\n",
              "    }\n",
              "\n",
              "    .colab-df-convert {\n",
              "      background-color: #E8F0FE;\n",
              "      border: none;\n",
              "      border-radius: 50%;\n",
              "      cursor: pointer;\n",
              "      display: none;\n",
              "      fill: #1967D2;\n",
              "      height: 32px;\n",
              "      padding: 0 0 0 0;\n",
              "      width: 32px;\n",
              "    }\n",
              "\n",
              "    .colab-df-convert:hover {\n",
              "      background-color: #E2EBFA;\n",
              "      box-shadow: 0px 1px 2px rgba(60, 64, 67, 0.3), 0px 1px 3px 1px rgba(60, 64, 67, 0.15);\n",
              "      fill: #174EA6;\n",
              "    }\n",
              "\n",
              "    .colab-df-buttons div {\n",
              "      margin-bottom: 4px;\n",
              "    }\n",
              "\n",
              "    [theme=dark] .colab-df-convert {\n",
              "      background-color: #3B4455;\n",
              "      fill: #D2E3FC;\n",
              "    }\n",
              "\n",
              "    [theme=dark] .colab-df-convert:hover {\n",
              "      background-color: #434B5C;\n",
              "      box-shadow: 0px 1px 3px 1px rgba(0, 0, 0, 0.15);\n",
              "      filter: drop-shadow(0px 1px 2px rgba(0, 0, 0, 0.3));\n",
              "      fill: #FFFFFF;\n",
              "    }\n",
              "  </style>\n",
              "\n",
              "    <script>\n",
              "      const buttonEl =\n",
              "        document.querySelector('#df-51a5572e-7db0-4694-8ab8-81a967bb402f button.colab-df-convert');\n",
              "      buttonEl.style.display =\n",
              "        google.colab.kernel.accessAllowed ? 'block' : 'none';\n",
              "\n",
              "      async function convertToInteractive(key) {\n",
              "        const element = document.querySelector('#df-51a5572e-7db0-4694-8ab8-81a967bb402f');\n",
              "        const dataTable =\n",
              "          await google.colab.kernel.invokeFunction('convertToInteractive',\n",
              "                                                    [key], {});\n",
              "        if (!dataTable) return;\n",
              "\n",
              "        const docLinkHtml = 'Like what you see? Visit the ' +\n",
              "          '<a target=\"_blank\" href=https://colab.research.google.com/notebooks/data_table.ipynb>data table notebook</a>'\n",
              "          + ' to learn more about interactive tables.';\n",
              "        element.innerHTML = '';\n",
              "        dataTable['output_type'] = 'display_data';\n",
              "        await google.colab.output.renderOutput(dataTable, element);\n",
              "        const docLink = document.createElement('div');\n",
              "        docLink.innerHTML = docLinkHtml;\n",
              "        element.appendChild(docLink);\n",
              "      }\n",
              "    </script>\n",
              "  </div>\n",
              "\n",
              "\n",
              "<div id=\"df-503d7ce6-babe-4e6a-9fe9-39b36bf48452\">\n",
              "  <button class=\"colab-df-quickchart\" onclick=\"quickchart('df-503d7ce6-babe-4e6a-9fe9-39b36bf48452')\"\n",
              "            title=\"Suggest charts\"\n",
              "            style=\"display:none;\">\n",
              "\n",
              "<svg xmlns=\"http://www.w3.org/2000/svg\" height=\"24px\"viewBox=\"0 0 24 24\"\n",
              "     width=\"24px\">\n",
              "    <g>\n",
              "        <path d=\"M19 3H5c-1.1 0-2 .9-2 2v14c0 1.1.9 2 2 2h14c1.1 0 2-.9 2-2V5c0-1.1-.9-2-2-2zM9 17H7v-7h2v7zm4 0h-2V7h2v10zm4 0h-2v-4h2v4z\"/>\n",
              "    </g>\n",
              "</svg>\n",
              "  </button>\n",
              "\n",
              "<style>\n",
              "  .colab-df-quickchart {\n",
              "      --bg-color: #E8F0FE;\n",
              "      --fill-color: #1967D2;\n",
              "      --hover-bg-color: #E2EBFA;\n",
              "      --hover-fill-color: #174EA6;\n",
              "      --disabled-fill-color: #AAA;\n",
              "      --disabled-bg-color: #DDD;\n",
              "  }\n",
              "\n",
              "  [theme=dark] .colab-df-quickchart {\n",
              "      --bg-color: #3B4455;\n",
              "      --fill-color: #D2E3FC;\n",
              "      --hover-bg-color: #434B5C;\n",
              "      --hover-fill-color: #FFFFFF;\n",
              "      --disabled-bg-color: #3B4455;\n",
              "      --disabled-fill-color: #666;\n",
              "  }\n",
              "\n",
              "  .colab-df-quickchart {\n",
              "    background-color: var(--bg-color);\n",
              "    border: none;\n",
              "    border-radius: 50%;\n",
              "    cursor: pointer;\n",
              "    display: none;\n",
              "    fill: var(--fill-color);\n",
              "    height: 32px;\n",
              "    padding: 0;\n",
              "    width: 32px;\n",
              "  }\n",
              "\n",
              "  .colab-df-quickchart:hover {\n",
              "    background-color: var(--hover-bg-color);\n",
              "    box-shadow: 0 1px 2px rgba(60, 64, 67, 0.3), 0 1px 3px 1px rgba(60, 64, 67, 0.15);\n",
              "    fill: var(--button-hover-fill-color);\n",
              "  }\n",
              "\n",
              "  .colab-df-quickchart-complete:disabled,\n",
              "  .colab-df-quickchart-complete:disabled:hover {\n",
              "    background-color: var(--disabled-bg-color);\n",
              "    fill: var(--disabled-fill-color);\n",
              "    box-shadow: none;\n",
              "  }\n",
              "\n",
              "  .colab-df-spinner {\n",
              "    border: 2px solid var(--fill-color);\n",
              "    border-color: transparent;\n",
              "    border-bottom-color: var(--fill-color);\n",
              "    animation:\n",
              "      spin 1s steps(1) infinite;\n",
              "  }\n",
              "\n",
              "  @keyframes spin {\n",
              "    0% {\n",
              "      border-color: transparent;\n",
              "      border-bottom-color: var(--fill-color);\n",
              "      border-left-color: var(--fill-color);\n",
              "    }\n",
              "    20% {\n",
              "      border-color: transparent;\n",
              "      border-left-color: var(--fill-color);\n",
              "      border-top-color: var(--fill-color);\n",
              "    }\n",
              "    30% {\n",
              "      border-color: transparent;\n",
              "      border-left-color: var(--fill-color);\n",
              "      border-top-color: var(--fill-color);\n",
              "      border-right-color: var(--fill-color);\n",
              "    }\n",
              "    40% {\n",
              "      border-color: transparent;\n",
              "      border-right-color: var(--fill-color);\n",
              "      border-top-color: var(--fill-color);\n",
              "    }\n",
              "    60% {\n",
              "      border-color: transparent;\n",
              "      border-right-color: var(--fill-color);\n",
              "    }\n",
              "    80% {\n",
              "      border-color: transparent;\n",
              "      border-right-color: var(--fill-color);\n",
              "      border-bottom-color: var(--fill-color);\n",
              "    }\n",
              "    90% {\n",
              "      border-color: transparent;\n",
              "      border-bottom-color: var(--fill-color);\n",
              "    }\n",
              "  }\n",
              "</style>\n",
              "\n",
              "  <script>\n",
              "    async function quickchart(key) {\n",
              "      const quickchartButtonEl =\n",
              "        document.querySelector('#' + key + ' button');\n",
              "      quickchartButtonEl.disabled = true;  // To prevent multiple clicks.\n",
              "      quickchartButtonEl.classList.add('colab-df-spinner');\n",
              "      try {\n",
              "        const charts = await google.colab.kernel.invokeFunction(\n",
              "            'suggestCharts', [key], {});\n",
              "      } catch (error) {\n",
              "        console.error('Error during call to suggestCharts:', error);\n",
              "      }\n",
              "      quickchartButtonEl.classList.remove('colab-df-spinner');\n",
              "      quickchartButtonEl.classList.add('colab-df-quickchart-complete');\n",
              "    }\n",
              "    (() => {\n",
              "      let quickchartButtonEl =\n",
              "        document.querySelector('#df-503d7ce6-babe-4e6a-9fe9-39b36bf48452 button');\n",
              "      quickchartButtonEl.style.display =\n",
              "        google.colab.kernel.accessAllowed ? 'block' : 'none';\n",
              "    })();\n",
              "  </script>\n",
              "</div>\n",
              "    </div>\n",
              "  </div>\n"
            ]
          },
          "metadata": {},
          "execution_count": 26
        }
      ]
    },
    {
      "cell_type": "markdown",
      "source": [
        "- What is the total number of offences for each force between 2019 and 2023?\n",
        "    - results displayed in table below"
      ],
      "metadata": {
        "id": "VNF4sw6i9SF1"
      }
    },
    {
      "cell_type": "code",
      "source": [
        "force_b = (df_stat\n",
        "           .groupby('Force_Name')\n",
        "           .agg({'Number_of_Offences': 'sum'})\n",
        "           .sort_values(by='Number_of_Offences', ascending=False)\n",
        "           .rename(columns={'Number_of_Offences': 'Total_Num_of_Offences'}))\n",
        "force_b.head(10)"
      ],
      "metadata": {
        "colab": {
          "base_uri": "https://localhost:8080/",
          "height": 394
        },
        "id": "t6hqaOIb9RWB",
        "outputId": "a79dea5c-8634-4301-c837-aae56e657c18"
      },
      "execution_count": 27,
      "outputs": [
        {
          "output_type": "execute_result",
          "data": {
            "text/plain": [
              "                     Total_Num_of_Offences\n",
              "Force_Name                                \n",
              "Greater Manchester                  243160\n",
              "West Yorkshire                      229302\n",
              "Metropolitan Police                 219318\n",
              "West Midlands                       210589\n",
              "Hampshire                           179166\n",
              "Thames Valley                       178562\n",
              "Kent                                177751\n",
              "Sussex                              170875\n",
              "Essex                               167912\n",
              "Merseyside                          166720"
            ],
            "text/html": [
              "\n",
              "  <div id=\"df-9ee0e882-aa12-477a-b515-a193ecb49fe5\" class=\"colab-df-container\">\n",
              "    <div>\n",
              "<style scoped>\n",
              "    .dataframe tbody tr th:only-of-type {\n",
              "        vertical-align: middle;\n",
              "    }\n",
              "\n",
              "    .dataframe tbody tr th {\n",
              "        vertical-align: top;\n",
              "    }\n",
              "\n",
              "    .dataframe thead th {\n",
              "        text-align: right;\n",
              "    }\n",
              "</style>\n",
              "<table border=\"1\" class=\"dataframe\">\n",
              "  <thead>\n",
              "    <tr style=\"text-align: right;\">\n",
              "      <th></th>\n",
              "      <th>Total_Num_of_Offences</th>\n",
              "    </tr>\n",
              "    <tr>\n",
              "      <th>Force_Name</th>\n",
              "      <th></th>\n",
              "    </tr>\n",
              "  </thead>\n",
              "  <tbody>\n",
              "    <tr>\n",
              "      <th>Greater Manchester</th>\n",
              "      <td>243160</td>\n",
              "    </tr>\n",
              "    <tr>\n",
              "      <th>West Yorkshire</th>\n",
              "      <td>229302</td>\n",
              "    </tr>\n",
              "    <tr>\n",
              "      <th>Metropolitan Police</th>\n",
              "      <td>219318</td>\n",
              "    </tr>\n",
              "    <tr>\n",
              "      <th>West Midlands</th>\n",
              "      <td>210589</td>\n",
              "    </tr>\n",
              "    <tr>\n",
              "      <th>Hampshire</th>\n",
              "      <td>179166</td>\n",
              "    </tr>\n",
              "    <tr>\n",
              "      <th>Thames Valley</th>\n",
              "      <td>178562</td>\n",
              "    </tr>\n",
              "    <tr>\n",
              "      <th>Kent</th>\n",
              "      <td>177751</td>\n",
              "    </tr>\n",
              "    <tr>\n",
              "      <th>Sussex</th>\n",
              "      <td>170875</td>\n",
              "    </tr>\n",
              "    <tr>\n",
              "      <th>Essex</th>\n",
              "      <td>167912</td>\n",
              "    </tr>\n",
              "    <tr>\n",
              "      <th>Merseyside</th>\n",
              "      <td>166720</td>\n",
              "    </tr>\n",
              "  </tbody>\n",
              "</table>\n",
              "</div>\n",
              "    <div class=\"colab-df-buttons\">\n",
              "\n",
              "  <div class=\"colab-df-container\">\n",
              "    <button class=\"colab-df-convert\" onclick=\"convertToInteractive('df-9ee0e882-aa12-477a-b515-a193ecb49fe5')\"\n",
              "            title=\"Convert this dataframe to an interactive table.\"\n",
              "            style=\"display:none;\">\n",
              "\n",
              "  <svg xmlns=\"http://www.w3.org/2000/svg\" height=\"24px\" viewBox=\"0 -960 960 960\">\n",
              "    <path d=\"M120-120v-720h720v720H120Zm60-500h600v-160H180v160Zm220 220h160v-160H400v160Zm0 220h160v-160H400v160ZM180-400h160v-160H180v160Zm440 0h160v-160H620v160ZM180-180h160v-160H180v160Zm440 0h160v-160H620v160Z\"/>\n",
              "  </svg>\n",
              "    </button>\n",
              "\n",
              "  <style>\n",
              "    .colab-df-container {\n",
              "      display:flex;\n",
              "      gap: 12px;\n",
              "    }\n",
              "\n",
              "    .colab-df-convert {\n",
              "      background-color: #E8F0FE;\n",
              "      border: none;\n",
              "      border-radius: 50%;\n",
              "      cursor: pointer;\n",
              "      display: none;\n",
              "      fill: #1967D2;\n",
              "      height: 32px;\n",
              "      padding: 0 0 0 0;\n",
              "      width: 32px;\n",
              "    }\n",
              "\n",
              "    .colab-df-convert:hover {\n",
              "      background-color: #E2EBFA;\n",
              "      box-shadow: 0px 1px 2px rgba(60, 64, 67, 0.3), 0px 1px 3px 1px rgba(60, 64, 67, 0.15);\n",
              "      fill: #174EA6;\n",
              "    }\n",
              "\n",
              "    .colab-df-buttons div {\n",
              "      margin-bottom: 4px;\n",
              "    }\n",
              "\n",
              "    [theme=dark] .colab-df-convert {\n",
              "      background-color: #3B4455;\n",
              "      fill: #D2E3FC;\n",
              "    }\n",
              "\n",
              "    [theme=dark] .colab-df-convert:hover {\n",
              "      background-color: #434B5C;\n",
              "      box-shadow: 0px 1px 3px 1px rgba(0, 0, 0, 0.15);\n",
              "      filter: drop-shadow(0px 1px 2px rgba(0, 0, 0, 0.3));\n",
              "      fill: #FFFFFF;\n",
              "    }\n",
              "  </style>\n",
              "\n",
              "    <script>\n",
              "      const buttonEl =\n",
              "        document.querySelector('#df-9ee0e882-aa12-477a-b515-a193ecb49fe5 button.colab-df-convert');\n",
              "      buttonEl.style.display =\n",
              "        google.colab.kernel.accessAllowed ? 'block' : 'none';\n",
              "\n",
              "      async function convertToInteractive(key) {\n",
              "        const element = document.querySelector('#df-9ee0e882-aa12-477a-b515-a193ecb49fe5');\n",
              "        const dataTable =\n",
              "          await google.colab.kernel.invokeFunction('convertToInteractive',\n",
              "                                                    [key], {});\n",
              "        if (!dataTable) return;\n",
              "\n",
              "        const docLinkHtml = 'Like what you see? Visit the ' +\n",
              "          '<a target=\"_blank\" href=https://colab.research.google.com/notebooks/data_table.ipynb>data table notebook</a>'\n",
              "          + ' to learn more about interactive tables.';\n",
              "        element.innerHTML = '';\n",
              "        dataTable['output_type'] = 'display_data';\n",
              "        await google.colab.output.renderOutput(dataTable, element);\n",
              "        const docLink = document.createElement('div');\n",
              "        docLink.innerHTML = docLinkHtml;\n",
              "        element.appendChild(docLink);\n",
              "      }\n",
              "    </script>\n",
              "  </div>\n",
              "\n",
              "\n",
              "<div id=\"df-fd4cab61-ede3-4ed2-b910-658efb680ee2\">\n",
              "  <button class=\"colab-df-quickchart\" onclick=\"quickchart('df-fd4cab61-ede3-4ed2-b910-658efb680ee2')\"\n",
              "            title=\"Suggest charts\"\n",
              "            style=\"display:none;\">\n",
              "\n",
              "<svg xmlns=\"http://www.w3.org/2000/svg\" height=\"24px\"viewBox=\"0 0 24 24\"\n",
              "     width=\"24px\">\n",
              "    <g>\n",
              "        <path d=\"M19 3H5c-1.1 0-2 .9-2 2v14c0 1.1.9 2 2 2h14c1.1 0 2-.9 2-2V5c0-1.1-.9-2-2-2zM9 17H7v-7h2v7zm4 0h-2V7h2v10zm4 0h-2v-4h2v4z\"/>\n",
              "    </g>\n",
              "</svg>\n",
              "  </button>\n",
              "\n",
              "<style>\n",
              "  .colab-df-quickchart {\n",
              "      --bg-color: #E8F0FE;\n",
              "      --fill-color: #1967D2;\n",
              "      --hover-bg-color: #E2EBFA;\n",
              "      --hover-fill-color: #174EA6;\n",
              "      --disabled-fill-color: #AAA;\n",
              "      --disabled-bg-color: #DDD;\n",
              "  }\n",
              "\n",
              "  [theme=dark] .colab-df-quickchart {\n",
              "      --bg-color: #3B4455;\n",
              "      --fill-color: #D2E3FC;\n",
              "      --hover-bg-color: #434B5C;\n",
              "      --hover-fill-color: #FFFFFF;\n",
              "      --disabled-bg-color: #3B4455;\n",
              "      --disabled-fill-color: #666;\n",
              "  }\n",
              "\n",
              "  .colab-df-quickchart {\n",
              "    background-color: var(--bg-color);\n",
              "    border: none;\n",
              "    border-radius: 50%;\n",
              "    cursor: pointer;\n",
              "    display: none;\n",
              "    fill: var(--fill-color);\n",
              "    height: 32px;\n",
              "    padding: 0;\n",
              "    width: 32px;\n",
              "  }\n",
              "\n",
              "  .colab-df-quickchart:hover {\n",
              "    background-color: var(--hover-bg-color);\n",
              "    box-shadow: 0 1px 2px rgba(60, 64, 67, 0.3), 0 1px 3px 1px rgba(60, 64, 67, 0.15);\n",
              "    fill: var(--button-hover-fill-color);\n",
              "  }\n",
              "\n",
              "  .colab-df-quickchart-complete:disabled,\n",
              "  .colab-df-quickchart-complete:disabled:hover {\n",
              "    background-color: var(--disabled-bg-color);\n",
              "    fill: var(--disabled-fill-color);\n",
              "    box-shadow: none;\n",
              "  }\n",
              "\n",
              "  .colab-df-spinner {\n",
              "    border: 2px solid var(--fill-color);\n",
              "    border-color: transparent;\n",
              "    border-bottom-color: var(--fill-color);\n",
              "    animation:\n",
              "      spin 1s steps(1) infinite;\n",
              "  }\n",
              "\n",
              "  @keyframes spin {\n",
              "    0% {\n",
              "      border-color: transparent;\n",
              "      border-bottom-color: var(--fill-color);\n",
              "      border-left-color: var(--fill-color);\n",
              "    }\n",
              "    20% {\n",
              "      border-color: transparent;\n",
              "      border-left-color: var(--fill-color);\n",
              "      border-top-color: var(--fill-color);\n",
              "    }\n",
              "    30% {\n",
              "      border-color: transparent;\n",
              "      border-left-color: var(--fill-color);\n",
              "      border-top-color: var(--fill-color);\n",
              "      border-right-color: var(--fill-color);\n",
              "    }\n",
              "    40% {\n",
              "      border-color: transparent;\n",
              "      border-right-color: var(--fill-color);\n",
              "      border-top-color: var(--fill-color);\n",
              "    }\n",
              "    60% {\n",
              "      border-color: transparent;\n",
              "      border-right-color: var(--fill-color);\n",
              "    }\n",
              "    80% {\n",
              "      border-color: transparent;\n",
              "      border-right-color: var(--fill-color);\n",
              "      border-bottom-color: var(--fill-color);\n",
              "    }\n",
              "    90% {\n",
              "      border-color: transparent;\n",
              "      border-bottom-color: var(--fill-color);\n",
              "    }\n",
              "  }\n",
              "</style>\n",
              "\n",
              "  <script>\n",
              "    async function quickchart(key) {\n",
              "      const quickchartButtonEl =\n",
              "        document.querySelector('#' + key + ' button');\n",
              "      quickchartButtonEl.disabled = true;  // To prevent multiple clicks.\n",
              "      quickchartButtonEl.classList.add('colab-df-spinner');\n",
              "      try {\n",
              "        const charts = await google.colab.kernel.invokeFunction(\n",
              "            'suggestCharts', [key], {});\n",
              "      } catch (error) {\n",
              "        console.error('Error during call to suggestCharts:', error);\n",
              "      }\n",
              "      quickchartButtonEl.classList.remove('colab-df-spinner');\n",
              "      quickchartButtonEl.classList.add('colab-df-quickchart-complete');\n",
              "    }\n",
              "    (() => {\n",
              "      let quickchartButtonEl =\n",
              "        document.querySelector('#df-fd4cab61-ede3-4ed2-b910-658efb680ee2 button');\n",
              "      quickchartButtonEl.style.display =\n",
              "        google.colab.kernel.accessAllowed ? 'block' : 'none';\n",
              "    })();\n",
              "  </script>\n",
              "</div>\n",
              "    </div>\n",
              "  </div>\n"
            ]
          },
          "metadata": {},
          "execution_count": 27
        }
      ]
    },
    {
      "cell_type": "markdown",
      "source": [
        "- What are the Top Crime Per Force for each year?\n",
        "    - Top crime based on total number of offences commited was gotten and they are as follows:\n",
        "      1. Theft offences\n",
        "      1. Criminal damage and arson\n",
        "      1. Violence against the person\n",
        "      1. Sexual offences\n",
        "      1. Drug offences\n",
        "      1. Public order offences\n",
        "      1. Miscellaneous crimes against society\n",
        "      1. Possession of weapons offence\n",
        "      1. Robbery"
      ],
      "metadata": {
        "id": "maq6JLkz9Q8E"
      }
    },
    {
      "cell_type": "code",
      "source": [
        "crime = (df_stat\n",
        "         .groupby('New_ONS_offence_group')\n",
        "         .agg({'Number_of_Offences': 'sum'})\n",
        "         .rename(columns={'Number_of_Offences': 'Total_Number_of_Offences'})\n",
        "         .sort_values(by='Total_Number_of_Offences',\n",
        "                      ascending=False))\n",
        "\n",
        "crime = crime.rename_axis('Top Crime', axis=0)\n",
        "\n",
        "crime"
      ],
      "metadata": {
        "colab": {
          "base_uri": "https://localhost:8080/",
          "height": 363
        },
        "id": "9eiOjQQh-xH9",
        "outputId": "eb6dafb2-0f06-4688-cc1e-5dd94c1a685f"
      },
      "execution_count": 28,
      "outputs": [
        {
          "output_type": "execute_result",
          "data": {
            "text/plain": [
              "                                      Total_Number_of_Offences\n",
              "Top Crime                                                     \n",
              "Theft offences                                         1678306\n",
              "Criminal damage and arson                              1114887\n",
              "Violence against the person                             800080\n",
              "Sexual offences                                         689508\n",
              "Drug offences                                           509913\n",
              "Public order offences                                   509269\n",
              "Miscellaneous crimes against society                    465087\n",
              "Possession of weapons offences                          208021\n",
              "Robbery                                                 149128"
            ],
            "text/html": [
              "\n",
              "  <div id=\"df-fe4b64b2-921f-4c0b-817c-3e22bf4437a3\" class=\"colab-df-container\">\n",
              "    <div>\n",
              "<style scoped>\n",
              "    .dataframe tbody tr th:only-of-type {\n",
              "        vertical-align: middle;\n",
              "    }\n",
              "\n",
              "    .dataframe tbody tr th {\n",
              "        vertical-align: top;\n",
              "    }\n",
              "\n",
              "    .dataframe thead th {\n",
              "        text-align: right;\n",
              "    }\n",
              "</style>\n",
              "<table border=\"1\" class=\"dataframe\">\n",
              "  <thead>\n",
              "    <tr style=\"text-align: right;\">\n",
              "      <th></th>\n",
              "      <th>Total_Number_of_Offences</th>\n",
              "    </tr>\n",
              "    <tr>\n",
              "      <th>Top Crime</th>\n",
              "      <th></th>\n",
              "    </tr>\n",
              "  </thead>\n",
              "  <tbody>\n",
              "    <tr>\n",
              "      <th>Theft offences</th>\n",
              "      <td>1678306</td>\n",
              "    </tr>\n",
              "    <tr>\n",
              "      <th>Criminal damage and arson</th>\n",
              "      <td>1114887</td>\n",
              "    </tr>\n",
              "    <tr>\n",
              "      <th>Violence against the person</th>\n",
              "      <td>800080</td>\n",
              "    </tr>\n",
              "    <tr>\n",
              "      <th>Sexual offences</th>\n",
              "      <td>689508</td>\n",
              "    </tr>\n",
              "    <tr>\n",
              "      <th>Drug offences</th>\n",
              "      <td>509913</td>\n",
              "    </tr>\n",
              "    <tr>\n",
              "      <th>Public order offences</th>\n",
              "      <td>509269</td>\n",
              "    </tr>\n",
              "    <tr>\n",
              "      <th>Miscellaneous crimes against society</th>\n",
              "      <td>465087</td>\n",
              "    </tr>\n",
              "    <tr>\n",
              "      <th>Possession of weapons offences</th>\n",
              "      <td>208021</td>\n",
              "    </tr>\n",
              "    <tr>\n",
              "      <th>Robbery</th>\n",
              "      <td>149128</td>\n",
              "    </tr>\n",
              "  </tbody>\n",
              "</table>\n",
              "</div>\n",
              "    <div class=\"colab-df-buttons\">\n",
              "\n",
              "  <div class=\"colab-df-container\">\n",
              "    <button class=\"colab-df-convert\" onclick=\"convertToInteractive('df-fe4b64b2-921f-4c0b-817c-3e22bf4437a3')\"\n",
              "            title=\"Convert this dataframe to an interactive table.\"\n",
              "            style=\"display:none;\">\n",
              "\n",
              "  <svg xmlns=\"http://www.w3.org/2000/svg\" height=\"24px\" viewBox=\"0 -960 960 960\">\n",
              "    <path d=\"M120-120v-720h720v720H120Zm60-500h600v-160H180v160Zm220 220h160v-160H400v160Zm0 220h160v-160H400v160ZM180-400h160v-160H180v160Zm440 0h160v-160H620v160ZM180-180h160v-160H180v160Zm440 0h160v-160H620v160Z\"/>\n",
              "  </svg>\n",
              "    </button>\n",
              "\n",
              "  <style>\n",
              "    .colab-df-container {\n",
              "      display:flex;\n",
              "      gap: 12px;\n",
              "    }\n",
              "\n",
              "    .colab-df-convert {\n",
              "      background-color: #E8F0FE;\n",
              "      border: none;\n",
              "      border-radius: 50%;\n",
              "      cursor: pointer;\n",
              "      display: none;\n",
              "      fill: #1967D2;\n",
              "      height: 32px;\n",
              "      padding: 0 0 0 0;\n",
              "      width: 32px;\n",
              "    }\n",
              "\n",
              "    .colab-df-convert:hover {\n",
              "      background-color: #E2EBFA;\n",
              "      box-shadow: 0px 1px 2px rgba(60, 64, 67, 0.3), 0px 1px 3px 1px rgba(60, 64, 67, 0.15);\n",
              "      fill: #174EA6;\n",
              "    }\n",
              "\n",
              "    .colab-df-buttons div {\n",
              "      margin-bottom: 4px;\n",
              "    }\n",
              "\n",
              "    [theme=dark] .colab-df-convert {\n",
              "      background-color: #3B4455;\n",
              "      fill: #D2E3FC;\n",
              "    }\n",
              "\n",
              "    [theme=dark] .colab-df-convert:hover {\n",
              "      background-color: #434B5C;\n",
              "      box-shadow: 0px 1px 3px 1px rgba(0, 0, 0, 0.15);\n",
              "      filter: drop-shadow(0px 1px 2px rgba(0, 0, 0, 0.3));\n",
              "      fill: #FFFFFF;\n",
              "    }\n",
              "  </style>\n",
              "\n",
              "    <script>\n",
              "      const buttonEl =\n",
              "        document.querySelector('#df-fe4b64b2-921f-4c0b-817c-3e22bf4437a3 button.colab-df-convert');\n",
              "      buttonEl.style.display =\n",
              "        google.colab.kernel.accessAllowed ? 'block' : 'none';\n",
              "\n",
              "      async function convertToInteractive(key) {\n",
              "        const element = document.querySelector('#df-fe4b64b2-921f-4c0b-817c-3e22bf4437a3');\n",
              "        const dataTable =\n",
              "          await google.colab.kernel.invokeFunction('convertToInteractive',\n",
              "                                                    [key], {});\n",
              "        if (!dataTable) return;\n",
              "\n",
              "        const docLinkHtml = 'Like what you see? Visit the ' +\n",
              "          '<a target=\"_blank\" href=https://colab.research.google.com/notebooks/data_table.ipynb>data table notebook</a>'\n",
              "          + ' to learn more about interactive tables.';\n",
              "        element.innerHTML = '';\n",
              "        dataTable['output_type'] = 'display_data';\n",
              "        await google.colab.output.renderOutput(dataTable, element);\n",
              "        const docLink = document.createElement('div');\n",
              "        docLink.innerHTML = docLinkHtml;\n",
              "        element.appendChild(docLink);\n",
              "      }\n",
              "    </script>\n",
              "  </div>\n",
              "\n",
              "\n",
              "<div id=\"df-a523893b-4656-4d78-bd41-08b23e2d0527\">\n",
              "  <button class=\"colab-df-quickchart\" onclick=\"quickchart('df-a523893b-4656-4d78-bd41-08b23e2d0527')\"\n",
              "            title=\"Suggest charts\"\n",
              "            style=\"display:none;\">\n",
              "\n",
              "<svg xmlns=\"http://www.w3.org/2000/svg\" height=\"24px\"viewBox=\"0 0 24 24\"\n",
              "     width=\"24px\">\n",
              "    <g>\n",
              "        <path d=\"M19 3H5c-1.1 0-2 .9-2 2v14c0 1.1.9 2 2 2h14c1.1 0 2-.9 2-2V5c0-1.1-.9-2-2-2zM9 17H7v-7h2v7zm4 0h-2V7h2v10zm4 0h-2v-4h2v4z\"/>\n",
              "    </g>\n",
              "</svg>\n",
              "  </button>\n",
              "\n",
              "<style>\n",
              "  .colab-df-quickchart {\n",
              "      --bg-color: #E8F0FE;\n",
              "      --fill-color: #1967D2;\n",
              "      --hover-bg-color: #E2EBFA;\n",
              "      --hover-fill-color: #174EA6;\n",
              "      --disabled-fill-color: #AAA;\n",
              "      --disabled-bg-color: #DDD;\n",
              "  }\n",
              "\n",
              "  [theme=dark] .colab-df-quickchart {\n",
              "      --bg-color: #3B4455;\n",
              "      --fill-color: #D2E3FC;\n",
              "      --hover-bg-color: #434B5C;\n",
              "      --hover-fill-color: #FFFFFF;\n",
              "      --disabled-bg-color: #3B4455;\n",
              "      --disabled-fill-color: #666;\n",
              "  }\n",
              "\n",
              "  .colab-df-quickchart {\n",
              "    background-color: var(--bg-color);\n",
              "    border: none;\n",
              "    border-radius: 50%;\n",
              "    cursor: pointer;\n",
              "    display: none;\n",
              "    fill: var(--fill-color);\n",
              "    height: 32px;\n",
              "    padding: 0;\n",
              "    width: 32px;\n",
              "  }\n",
              "\n",
              "  .colab-df-quickchart:hover {\n",
              "    background-color: var(--hover-bg-color);\n",
              "    box-shadow: 0 1px 2px rgba(60, 64, 67, 0.3), 0 1px 3px 1px rgba(60, 64, 67, 0.15);\n",
              "    fill: var(--button-hover-fill-color);\n",
              "  }\n",
              "\n",
              "  .colab-df-quickchart-complete:disabled,\n",
              "  .colab-df-quickchart-complete:disabled:hover {\n",
              "    background-color: var(--disabled-bg-color);\n",
              "    fill: var(--disabled-fill-color);\n",
              "    box-shadow: none;\n",
              "  }\n",
              "\n",
              "  .colab-df-spinner {\n",
              "    border: 2px solid var(--fill-color);\n",
              "    border-color: transparent;\n",
              "    border-bottom-color: var(--fill-color);\n",
              "    animation:\n",
              "      spin 1s steps(1) infinite;\n",
              "  }\n",
              "\n",
              "  @keyframes spin {\n",
              "    0% {\n",
              "      border-color: transparent;\n",
              "      border-bottom-color: var(--fill-color);\n",
              "      border-left-color: var(--fill-color);\n",
              "    }\n",
              "    20% {\n",
              "      border-color: transparent;\n",
              "      border-left-color: var(--fill-color);\n",
              "      border-top-color: var(--fill-color);\n",
              "    }\n",
              "    30% {\n",
              "      border-color: transparent;\n",
              "      border-left-color: var(--fill-color);\n",
              "      border-top-color: var(--fill-color);\n",
              "      border-right-color: var(--fill-color);\n",
              "    }\n",
              "    40% {\n",
              "      border-color: transparent;\n",
              "      border-right-color: var(--fill-color);\n",
              "      border-top-color: var(--fill-color);\n",
              "    }\n",
              "    60% {\n",
              "      border-color: transparent;\n",
              "      border-right-color: var(--fill-color);\n",
              "    }\n",
              "    80% {\n",
              "      border-color: transparent;\n",
              "      border-right-color: var(--fill-color);\n",
              "      border-bottom-color: var(--fill-color);\n",
              "    }\n",
              "    90% {\n",
              "      border-color: transparent;\n",
              "      border-bottom-color: var(--fill-color);\n",
              "    }\n",
              "  }\n",
              "</style>\n",
              "\n",
              "  <script>\n",
              "    async function quickchart(key) {\n",
              "      const quickchartButtonEl =\n",
              "        document.querySelector('#' + key + ' button');\n",
              "      quickchartButtonEl.disabled = true;  // To prevent multiple clicks.\n",
              "      quickchartButtonEl.classList.add('colab-df-spinner');\n",
              "      try {\n",
              "        const charts = await google.colab.kernel.invokeFunction(\n",
              "            'suggestCharts', [key], {});\n",
              "      } catch (error) {\n",
              "        console.error('Error during call to suggestCharts:', error);\n",
              "      }\n",
              "      quickchartButtonEl.classList.remove('colab-df-spinner');\n",
              "      quickchartButtonEl.classList.add('colab-df-quickchart-complete');\n",
              "    }\n",
              "    (() => {\n",
              "      let quickchartButtonEl =\n",
              "        document.querySelector('#df-a523893b-4656-4d78-bd41-08b23e2d0527 button');\n",
              "      quickchartButtonEl.style.display =\n",
              "        google.colab.kernel.accessAllowed ? 'block' : 'none';\n",
              "    })();\n",
              "  </script>\n",
              "</div>\n",
              "    </div>\n",
              "  </div>\n"
            ]
          },
          "metadata": {},
          "execution_count": 28
        }
      ]
    },
    {
      "cell_type": "markdown",
      "source": [
        "### Implementing MapReduce:\n",
        "- MapReduce was used to answer the following quesions:\n",
        "  - Top 10 crimes from 2019-2023\n",
        "  - Top Crime in 2020"
      ],
      "metadata": {
        "id": "L_Tdg6FtPzzj"
      }
    },
    {
      "cell_type": "markdown",
      "source": [
        "- The map method was used to map each entry for offence group and number of offences in to key: value pairs\n",
        "- The reduceByKey method was used to to count each occurence into values for the keys, each representing the offence group and number of offences\n",
        "- The entries were sorted in ascending order using the sortBy method\n",
        "- Top values were selected"
      ],
      "metadata": {
        "id": "nVIB1PA8-OIY"
      }
    },
    {
      "cell_type": "code",
      "source": [
        "# Convert pyspark data in a rdd\n",
        "offence_rdd = offence_final.rdd\n",
        "\n",
        "# Map phase: Create key-value pairs (crimetype, number_of_offences)\n",
        "mapped_rdd = offence_rdd.map(lambda row: (row['New_ONS_offence_group'],\n",
        "                                          row['Number_of_Offences']))\n",
        "\n",
        "# Reduce phase: Aggregate offences by New_ONS_offence_group\n",
        "reduced_rdd = mapped_rdd.reduceByKey(lambda x, y: x + y)\n",
        "\n",
        "# Sort by number of offences in descending order\n",
        "sorted_rdd = reduced_rdd.sortBy(lambda x: x[1], ascending=False)\n",
        "\n",
        "# Selects the top Entries\n",
        "top_10_crimes = sorted_rdd.take(10)\n",
        "\n",
        "# Print the results\n",
        "print('Top 10 Crime for 2019-2023')\n",
        "print('--------------------------------')\n",
        "for crime, total_offences in top_10_crimes:\n",
        "    print(f\"Crime: {crime}, Total Offences: {total_offences}\")"
      ],
      "metadata": {
        "colab": {
          "base_uri": "https://localhost:8080/"
        },
        "id": "cP2oiwQaPyza",
        "outputId": "4b45d67f-162a-4d4c-b208-6b5a0a3790cf"
      },
      "execution_count": 29,
      "outputs": [
        {
          "output_type": "stream",
          "name": "stdout",
          "text": [
            "Top 10 Crime for 2019-2023\n",
            "--------------------------------\n",
            "Crime: Theft offences, Total Offences: 1678306\n",
            "Crime: Criminal damage and arson, Total Offences: 1114887\n",
            "Crime: Violence against the person, Total Offences: 800080\n",
            "Crime: Sexual offences, Total Offences: 689508\n",
            "Crime: Drug offences, Total Offences: 509913\n",
            "Crime: Public order offences, Total Offences: 509269\n",
            "Crime: Miscellaneous crimes against society, Total Offences: 465087\n",
            "Crime: Possession of weapons offences, Total Offences: 208021\n",
            "Crime: Robbery, Total Offences: 149128\n"
          ]
        }
      ]
    },
    {
      "cell_type": "markdown",
      "source": [
        "##### Summary\n",
        "- A temporary table was created\n",
        "- Sql was used to get only data for year 2020\n",
        "- Pyspark dataframe was converted to rdd, inorder to use MapReduce\n",
        "- The map method was used to map each entry for offence group and number of offences in to key: value pairs\n",
        "- The reduceByKey method was used to to count each occurence into values for the keys, each representing the offence group and number of offences\n",
        "- The entries were sorted in ascending order using the sortBy method\n",
        "- Top first entry was selected"
      ],
      "metadata": {
        "id": "UXfMnSlC-MyW"
      }
    },
    {
      "cell_type": "code",
      "source": [
        "# Create a temporary view to subset for the year 2020\n",
        "offence_final.createOrReplaceTempView('offence_rdd')\n",
        "\n",
        "# Sql query to get data from Only year 2020\n",
        "query_rdd = \"\"\"\n",
        "        SELECT\n",
        "            Financial_Year,\n",
        "            New_ONS_offence_group,\n",
        "            Number_of_Offences\n",
        "        FROM\n",
        "            offence_rdd\n",
        "        WHERE Financial_Year == '2020'\n",
        "\"\"\"\n",
        "# Gets back pyspark dataframe\n",
        "offence_2020_rdd = spark.sql(query_rdd)\n",
        "\n",
        "# Convert pyspark to rdd\n",
        "offence_2020_rdd = offence_2020_rdd.rdd\n",
        "\n",
        "# Map phase: Create key-value pairs (crimetype, number_of_offences)\n",
        "mapped_2020_rdd = offence_2020_rdd.map(lambda row: (row['New_ONS_offence_group'],\n",
        "                                          row['Number_of_Offences']))\n",
        "\n",
        "# Reduce phase: Aggregate offences by New_ONS_offence_group\n",
        "reduced_2020_rdd = mapped_2020_rdd.reduceByKey(lambda x, y: x + y)\n",
        "\n",
        "# Sort by number of offences in descending order\n",
        "sorted_2020_rdd = reduced_2020_rdd.sortBy(lambda x: x[1], ascending=False)\n",
        "\n",
        "# Selects the top Entries\n",
        "top_10_crimes = sorted_2020_rdd.take(1)\n",
        "\n",
        "# Print the results\n",
        "print('Top 10 Crime for 2020')\n",
        "print('--------------------------------')\n",
        "for crime, total_offences in top_10_crimes:\n",
        "    print(f\"Crime: {crime}, Total Offences: {total_offences}\")"
      ],
      "metadata": {
        "colab": {
          "base_uri": "https://localhost:8080/"
        },
        "id": "3buxTBV45F-N",
        "outputId": "0877fe5e-c326-4cd7-877f-6943f079f574"
      },
      "execution_count": 30,
      "outputs": [
        {
          "output_type": "stream",
          "name": "stdout",
          "text": [
            "Top 10 Crime for 2020\n",
            "--------------------------------\n",
            "Crime: Theft offences, Total Offences: 386689\n"
          ]
        }
      ]
    },
    {
      "cell_type": "markdown",
      "source": [
        "## Correlation and Covariance\n",
        "- Using `cov` and `corr` method to find the correlation and covariance of Financial_Year, Financial_Quarter and Number_of_Offences"
      ],
      "metadata": {
        "id": "WDduXybWEqKk"
      }
    },
    {
      "cell_type": "code",
      "execution_count": 31,
      "metadata": {
        "id": "XS9_GpZICsQ2",
        "colab": {
          "base_uri": "https://localhost:8080/"
        },
        "outputId": "91922e4d-121e-483f-e2b2-02bed96d8d40"
      },
      "outputs": [
        {
          "output_type": "stream",
          "name": "stdout",
          "text": [
            "The correlation between Financial Quarter and Number of offences is: -0.0025\n",
            "The correlation between Financial Year and Number of offences is: 0.0083\n",
            "The covariance between Financial Year and Number of offences is: 1.6067\n",
            "The covariance between Financial Quarter and Number of offences is: -0.4477\n"
          ]
        }
      ],
      "source": [
        "# Correlation betwen financial year and number of offences\n",
        "yr_corr_offence = offence_final.corr('Financial_Year', 'Number_of_Offences')\n",
        "\n",
        "# Correlation betwen financial Quarter and number of offences\n",
        "qt_corr_offence = offence_final.corr('Financial_Quarter', 'Number_of_Offences')\n",
        "\n",
        "# Covariance betwen financial year and number of offences\n",
        "yrx_corr_offence = offence_final.cov('Financial_Year', 'Number_of_Offences')\n",
        "\n",
        "# Covariance betwen financial Quarter and number of offences\n",
        "qtx_corr_offence = offence_final.cov('Financial_Quarter', 'Number_of_Offences')\n",
        "\n",
        "\n",
        "print(f'The correlation between Financial Quarter and Number of offences is: {qt_corr_offence:.4f}')\n",
        "print(f'The correlation between Financial Year and Number of offences is: {yr_corr_offence:.4f}')\n",
        "print(f'The covariance between Financial Year and Number of offences is: {yrx_corr_offence:.4f}')\n",
        "print(f'The covariance between Financial Quarter and Number of offences is: {qtx_corr_offence:.4f}')"
      ]
    },
    {
      "cell_type": "markdown",
      "source": [
        "## Comparision of Degree of Skewness\n",
        "- skewness was found for `offence_final` and `offence_skewed`, and we see that the degree of skewness has drastically reduced\n",
        "- This was done using `skewness` method"
      ],
      "metadata": {
        "id": "ehK2av30G8am"
      }
    },
    {
      "cell_type": "code",
      "execution_count": 32,
      "metadata": {
        "id": "Ko2Po74SCsQ2",
        "colab": {
          "base_uri": "https://localhost:8080/"
        },
        "outputId": "de17f7f9-8e4b-4bdd-95d5-6af9b93eacfb"
      },
      "outputs": [
        {
          "output_type": "stream",
          "name": "stdout",
          "text": [
            "The Degree of skewness in offence_final is:  3.15\n",
            "The Degree of skewness in offence_skewed is:  12.29\n"
          ]
        }
      ],
      "source": [
        "# check for skewness of Number of Offences\n",
        "skewness_num_of_offences = offence_final.select(skewness('Number_of_Offences')).collect()[0][0]\n",
        "skewness_num_of_offences_sk = offence_skewed.select(skewness('Number_of_Offences')).collect()[0][0]\n",
        "\n",
        "print(f'The Degree of skewness in offence_final is: {skewness_num_of_offences: .2f}')\n",
        "print(f'The Degree of skewness in offence_skewed is: {skewness_num_of_offences_sk: .2f}')"
      ]
    },
    {
      "cell_type": "markdown",
      "metadata": {
        "id": "2i6my9y0CsQ3"
      },
      "source": [
        "## Hypothesis Testing\n",
        "\n",
        "#### Research questions\n",
        "\n",
        " -  Has the overall number of offenses changed significantly over time?\n",
        "    *   Null hypothesis (H0): The mean number of offenses has not changed significantly over time.\n",
        "    *    Alternate hypothesis (Ha): The mean number of offenses has changed significantly over time.\n",
        "    *  Test: ANOVA\n",
        "\n",
        "\n",
        "---\n",
        "\n",
        "\n",
        " -  Do certain financial quarters exhibit consistently higher or lower offense rates?\n",
        "    *  H0: There is no significant difference in offense rates between financial quarters.\n",
        "    *  Ha: There is a significant difference in offense rates between financial quarters.\n",
        "    * Test: ANOVA comparing offense rates across quarters.\n",
        "\n",
        "\n",
        "---\n",
        "\n",
        "\n",
        " -  Does the type of offense tend to change based on the financial quarter?\n",
        "    * H0: There is no association between offense type and financial quarter.\n",
        "    * Ha: There is an association between offense type and financial quarter.\n",
        "    * Test: Chi-square test of independence.\n",
        "---\n",
        "\n",
        "-  Are certain offense groups or subgroups more likely to occur in specific police force jurisdictions?\n",
        "    * H0: The distribution of offense groups is the same across different police force jurisdictions.\n",
        "    * Ha: The distribution of offense groups is different across different police force jurisdictions.\n",
        "    * Test: Chi-square test of independence.\n",
        "---\n",
        "\n",
        "    NOTE:Let our signifiance level (alpha)  be 0.1"
      ]
    },
    {
      "cell_type": "markdown",
      "source": [
        "## Sample Data\n",
        "- takes a sample of 50% from offence_final and converts it to pandas for hypothesis testing\n",
        "- using `select`, `sample`, `toPandas` which selects column of interest, takes a specified sample and converts to pandas respectively\n",
        "\n"
      ],
      "metadata": {
        "id": "uIUW4gVAHlFx"
      }
    },
    {
      "cell_type": "code",
      "execution_count": 33,
      "metadata": {
        "id": "YgWCK9cwCsQ3"
      },
      "outputs": [],
      "source": [
        " # Does the type of offense tend to change based on the financial quarter?\n",
        "sample_offence = offence_final.select('Financial_Year', 'Financial_Quarter',\n",
        "                      'Force_Name',\n",
        "                      'New_ONS_offence_group',\n",
        "                      'Number_of_Offences').sample(False, 0.50, 42).toPandas()"
      ]
    },
    {
      "cell_type": "markdown",
      "source": [
        "### Hypothesis 1\n",
        "- Has the overall number of offenses changed significantly over time?\n",
        "  - Null hypothesis (H0): The mean number of offenses has not changed significantly over time.\n",
        "  - Alternate hypothesis (Ha): The mean number of offenses has changed significantly over time.\n",
        "  - Test: ANOVA(analysis of variance)\n",
        "\n",
        "- Result:\n",
        "  - Our pvalue `0.416748` is greater than our significane level `0.1`, we fail to reject the null hypothesis\n",
        "  - Therefore, There is no significant change over time in the mean number of offences\n",
        "\n",
        "- Performed using:\n",
        "    - anova: a method from the pingouin package"
      ],
      "metadata": {
        "id": "c2iTSHl-JgHY"
      }
    },
    {
      "cell_type": "code",
      "execution_count": 34,
      "metadata": {
        "id": "kCG-_T-lCsQ3",
        "colab": {
          "base_uri": "https://localhost:8080/",
          "height": 81
        },
        "outputId": "e2238b76-54bb-412b-8abd-a00062ac91e2"
      },
      "outputs": [
        {
          "output_type": "display_data",
          "data": {
            "text/plain": [
              "           Source  ddof1  ddof2         F     p-unc       np2\n",
              "0  Financial_Year      4  41055  0.980372  0.416748  0.000096"
            ],
            "text/html": [
              "\n",
              "  <div id=\"df-5ab8571c-3b74-4771-83c4-d524664c33c2\" class=\"colab-df-container\">\n",
              "    <div>\n",
              "<style scoped>\n",
              "    .dataframe tbody tr th:only-of-type {\n",
              "        vertical-align: middle;\n",
              "    }\n",
              "\n",
              "    .dataframe tbody tr th {\n",
              "        vertical-align: top;\n",
              "    }\n",
              "\n",
              "    .dataframe thead th {\n",
              "        text-align: right;\n",
              "    }\n",
              "</style>\n",
              "<table border=\"1\" class=\"dataframe\">\n",
              "  <thead>\n",
              "    <tr style=\"text-align: right;\">\n",
              "      <th></th>\n",
              "      <th>Source</th>\n",
              "      <th>ddof1</th>\n",
              "      <th>ddof2</th>\n",
              "      <th>F</th>\n",
              "      <th>p-unc</th>\n",
              "      <th>np2</th>\n",
              "    </tr>\n",
              "  </thead>\n",
              "  <tbody>\n",
              "    <tr>\n",
              "      <th>0</th>\n",
              "      <td>Financial_Year</td>\n",
              "      <td>4</td>\n",
              "      <td>41055</td>\n",
              "      <td>0.980372</td>\n",
              "      <td>0.416748</td>\n",
              "      <td>0.000096</td>\n",
              "    </tr>\n",
              "  </tbody>\n",
              "</table>\n",
              "</div>\n",
              "    <div class=\"colab-df-buttons\">\n",
              "\n",
              "  <div class=\"colab-df-container\">\n",
              "    <button class=\"colab-df-convert\" onclick=\"convertToInteractive('df-5ab8571c-3b74-4771-83c4-d524664c33c2')\"\n",
              "            title=\"Convert this dataframe to an interactive table.\"\n",
              "            style=\"display:none;\">\n",
              "\n",
              "  <svg xmlns=\"http://www.w3.org/2000/svg\" height=\"24px\" viewBox=\"0 -960 960 960\">\n",
              "    <path d=\"M120-120v-720h720v720H120Zm60-500h600v-160H180v160Zm220 220h160v-160H400v160Zm0 220h160v-160H400v160ZM180-400h160v-160H180v160Zm440 0h160v-160H620v160ZM180-180h160v-160H180v160Zm440 0h160v-160H620v160Z\"/>\n",
              "  </svg>\n",
              "    </button>\n",
              "\n",
              "  <style>\n",
              "    .colab-df-container {\n",
              "      display:flex;\n",
              "      gap: 12px;\n",
              "    }\n",
              "\n",
              "    .colab-df-convert {\n",
              "      background-color: #E8F0FE;\n",
              "      border: none;\n",
              "      border-radius: 50%;\n",
              "      cursor: pointer;\n",
              "      display: none;\n",
              "      fill: #1967D2;\n",
              "      height: 32px;\n",
              "      padding: 0 0 0 0;\n",
              "      width: 32px;\n",
              "    }\n",
              "\n",
              "    .colab-df-convert:hover {\n",
              "      background-color: #E2EBFA;\n",
              "      box-shadow: 0px 1px 2px rgba(60, 64, 67, 0.3), 0px 1px 3px 1px rgba(60, 64, 67, 0.15);\n",
              "      fill: #174EA6;\n",
              "    }\n",
              "\n",
              "    .colab-df-buttons div {\n",
              "      margin-bottom: 4px;\n",
              "    }\n",
              "\n",
              "    [theme=dark] .colab-df-convert {\n",
              "      background-color: #3B4455;\n",
              "      fill: #D2E3FC;\n",
              "    }\n",
              "\n",
              "    [theme=dark] .colab-df-convert:hover {\n",
              "      background-color: #434B5C;\n",
              "      box-shadow: 0px 1px 3px 1px rgba(0, 0, 0, 0.15);\n",
              "      filter: drop-shadow(0px 1px 2px rgba(0, 0, 0, 0.3));\n",
              "      fill: #FFFFFF;\n",
              "    }\n",
              "  </style>\n",
              "\n",
              "    <script>\n",
              "      const buttonEl =\n",
              "        document.querySelector('#df-5ab8571c-3b74-4771-83c4-d524664c33c2 button.colab-df-convert');\n",
              "      buttonEl.style.display =\n",
              "        google.colab.kernel.accessAllowed ? 'block' : 'none';\n",
              "\n",
              "      async function convertToInteractive(key) {\n",
              "        const element = document.querySelector('#df-5ab8571c-3b74-4771-83c4-d524664c33c2');\n",
              "        const dataTable =\n",
              "          await google.colab.kernel.invokeFunction('convertToInteractive',\n",
              "                                                    [key], {});\n",
              "        if (!dataTable) return;\n",
              "\n",
              "        const docLinkHtml = 'Like what you see? Visit the ' +\n",
              "          '<a target=\"_blank\" href=https://colab.research.google.com/notebooks/data_table.ipynb>data table notebook</a>'\n",
              "          + ' to learn more about interactive tables.';\n",
              "        element.innerHTML = '';\n",
              "        dataTable['output_type'] = 'display_data';\n",
              "        await google.colab.output.renderOutput(dataTable, element);\n",
              "        const docLink = document.createElement('div');\n",
              "        docLink.innerHTML = docLinkHtml;\n",
              "        element.appendChild(docLink);\n",
              "      }\n",
              "    </script>\n",
              "  </div>\n",
              "\n",
              "    </div>\n",
              "  </div>\n"
            ]
          },
          "metadata": {}
        }
      ],
      "source": [
        "# ANOVA TESTING\n",
        "val = pg.anova(data=sample_offence,\n",
        "         dv='Number_of_Offences',\n",
        "         between='Financial_Year')\n",
        "\n",
        "# Displays outputs\n",
        "display(val)"
      ]
    },
    {
      "cell_type": "markdown",
      "source": [
        "### Hypothesis_2\n",
        " -  Do certain financial quarters exhibit consistently higher or lower offense rates?\n",
        "    *  H0: There is no significant difference in offense rates between financial quarters.\n",
        "    *  Ha: There is a significant difference in offense rates between financial quarters.\n",
        "    * Test: ANOVA comparing offense rates across quarters.\n",
        "\n",
        "\n",
        "- Result:\n",
        "  - Our pvalue `0.946519` is greater than our significane level `0.1`, we fail to reject the null hypothesis\n",
        "\n",
        "  - Therefore, There is no significant change over quarters in the mean number of offences\n",
        "\n",
        "- Performed using:\n",
        "  - anova: a method from the pingouin package\n",
        "\n",
        "\n"
      ],
      "metadata": {
        "id": "DCOwc3j9Mhf5"
      }
    },
    {
      "cell_type": "code",
      "execution_count": 35,
      "metadata": {
        "id": "38xjuJr-CsQ4",
        "colab": {
          "base_uri": "https://localhost:8080/",
          "height": 81
        },
        "outputId": "1136870b-96ed-4606-fa30-3d6d700f7090"
      },
      "outputs": [
        {
          "output_type": "display_data",
          "data": {
            "text/plain": [
              "              Source  ddof1  ddof2         F     p-unc       np2\n",
              "0  Financial_Quarter      3  41056  0.123082  0.946519  0.000009"
            ],
            "text/html": [
              "\n",
              "  <div id=\"df-b86f9ace-3d9c-49e2-b247-addea29d860f\" class=\"colab-df-container\">\n",
              "    <div>\n",
              "<style scoped>\n",
              "    .dataframe tbody tr th:only-of-type {\n",
              "        vertical-align: middle;\n",
              "    }\n",
              "\n",
              "    .dataframe tbody tr th {\n",
              "        vertical-align: top;\n",
              "    }\n",
              "\n",
              "    .dataframe thead th {\n",
              "        text-align: right;\n",
              "    }\n",
              "</style>\n",
              "<table border=\"1\" class=\"dataframe\">\n",
              "  <thead>\n",
              "    <tr style=\"text-align: right;\">\n",
              "      <th></th>\n",
              "      <th>Source</th>\n",
              "      <th>ddof1</th>\n",
              "      <th>ddof2</th>\n",
              "      <th>F</th>\n",
              "      <th>p-unc</th>\n",
              "      <th>np2</th>\n",
              "    </tr>\n",
              "  </thead>\n",
              "  <tbody>\n",
              "    <tr>\n",
              "      <th>0</th>\n",
              "      <td>Financial_Quarter</td>\n",
              "      <td>3</td>\n",
              "      <td>41056</td>\n",
              "      <td>0.123082</td>\n",
              "      <td>0.946519</td>\n",
              "      <td>0.000009</td>\n",
              "    </tr>\n",
              "  </tbody>\n",
              "</table>\n",
              "</div>\n",
              "    <div class=\"colab-df-buttons\">\n",
              "\n",
              "  <div class=\"colab-df-container\">\n",
              "    <button class=\"colab-df-convert\" onclick=\"convertToInteractive('df-b86f9ace-3d9c-49e2-b247-addea29d860f')\"\n",
              "            title=\"Convert this dataframe to an interactive table.\"\n",
              "            style=\"display:none;\">\n",
              "\n",
              "  <svg xmlns=\"http://www.w3.org/2000/svg\" height=\"24px\" viewBox=\"0 -960 960 960\">\n",
              "    <path d=\"M120-120v-720h720v720H120Zm60-500h600v-160H180v160Zm220 220h160v-160H400v160Zm0 220h160v-160H400v160ZM180-400h160v-160H180v160Zm440 0h160v-160H620v160ZM180-180h160v-160H180v160Zm440 0h160v-160H620v160Z\"/>\n",
              "  </svg>\n",
              "    </button>\n",
              "\n",
              "  <style>\n",
              "    .colab-df-container {\n",
              "      display:flex;\n",
              "      gap: 12px;\n",
              "    }\n",
              "\n",
              "    .colab-df-convert {\n",
              "      background-color: #E8F0FE;\n",
              "      border: none;\n",
              "      border-radius: 50%;\n",
              "      cursor: pointer;\n",
              "      display: none;\n",
              "      fill: #1967D2;\n",
              "      height: 32px;\n",
              "      padding: 0 0 0 0;\n",
              "      width: 32px;\n",
              "    }\n",
              "\n",
              "    .colab-df-convert:hover {\n",
              "      background-color: #E2EBFA;\n",
              "      box-shadow: 0px 1px 2px rgba(60, 64, 67, 0.3), 0px 1px 3px 1px rgba(60, 64, 67, 0.15);\n",
              "      fill: #174EA6;\n",
              "    }\n",
              "\n",
              "    .colab-df-buttons div {\n",
              "      margin-bottom: 4px;\n",
              "    }\n",
              "\n",
              "    [theme=dark] .colab-df-convert {\n",
              "      background-color: #3B4455;\n",
              "      fill: #D2E3FC;\n",
              "    }\n",
              "\n",
              "    [theme=dark] .colab-df-convert:hover {\n",
              "      background-color: #434B5C;\n",
              "      box-shadow: 0px 1px 3px 1px rgba(0, 0, 0, 0.15);\n",
              "      filter: drop-shadow(0px 1px 2px rgba(0, 0, 0, 0.3));\n",
              "      fill: #FFFFFF;\n",
              "    }\n",
              "  </style>\n",
              "\n",
              "    <script>\n",
              "      const buttonEl =\n",
              "        document.querySelector('#df-b86f9ace-3d9c-49e2-b247-addea29d860f button.colab-df-convert');\n",
              "      buttonEl.style.display =\n",
              "        google.colab.kernel.accessAllowed ? 'block' : 'none';\n",
              "\n",
              "      async function convertToInteractive(key) {\n",
              "        const element = document.querySelector('#df-b86f9ace-3d9c-49e2-b247-addea29d860f');\n",
              "        const dataTable =\n",
              "          await google.colab.kernel.invokeFunction('convertToInteractive',\n",
              "                                                    [key], {});\n",
              "        if (!dataTable) return;\n",
              "\n",
              "        const docLinkHtml = 'Like what you see? Visit the ' +\n",
              "          '<a target=\"_blank\" href=https://colab.research.google.com/notebooks/data_table.ipynb>data table notebook</a>'\n",
              "          + ' to learn more about interactive tables.';\n",
              "        element.innerHTML = '';\n",
              "        dataTable['output_type'] = 'display_data';\n",
              "        await google.colab.output.renderOutput(dataTable, element);\n",
              "        const docLink = document.createElement('div');\n",
              "        docLink.innerHTML = docLinkHtml;\n",
              "        element.appendChild(docLink);\n",
              "      }\n",
              "    </script>\n",
              "  </div>\n",
              "\n",
              "    </div>\n",
              "  </div>\n"
            ]
          },
          "metadata": {}
        }
      ],
      "source": [
        "# ANOVA TESTING\n",
        "val_1 = pg.anova(data=sample_offence,\n",
        "         dv='Number_of_Offences',\n",
        "         between='Financial_Quarter')\n",
        "\n",
        "# Display outputs\n",
        "\n",
        "display(val_1)"
      ]
    },
    {
      "cell_type": "markdown",
      "source": [
        "### Hypothesis_3\n",
        "  -  Does the type of offense tend to change based on the financial quarter?\n",
        "    * H0: There is no association between offense type and financial quarter.\n",
        "    * Ha: There is an association between offense type and financial quarter.\n",
        "    * Test: Chi-square test of independence.\n",
        "\n",
        "- Result:\n",
        "  - Our pvalue `0.991481` is greater than our significane level 0.1, we fail to reject the null hypothesis\n",
        "\n",
        "  - Therefore, There is no association between offense type and financial quarter\n",
        "\n",
        "- Performed using:\n",
        "  - chi2_independence: a method from the pingouin package\n"
      ],
      "metadata": {
        "id": "284H0DOANrVA"
      }
    },
    {
      "cell_type": "code",
      "execution_count": 36,
      "metadata": {
        "id": "NRt77RaNCsQ4",
        "colab": {
          "base_uri": "https://localhost:8080/",
          "height": 81
        },
        "outputId": "c209e1f1-6e99-4c07-e2d9-35e0f09eaa7a"
      },
      "outputs": [
        {
          "output_type": "display_data",
          "data": {
            "text/plain": [
              "      test  lambda      chi2   dof      pval    cramer     power\n",
              "0  pearson     1.0  10.61897  24.0  0.991481  0.009285  0.132144"
            ],
            "text/html": [
              "\n",
              "  <div id=\"df-f197c8fc-17da-46d7-8907-cace681f8809\" class=\"colab-df-container\">\n",
              "    <div>\n",
              "<style scoped>\n",
              "    .dataframe tbody tr th:only-of-type {\n",
              "        vertical-align: middle;\n",
              "    }\n",
              "\n",
              "    .dataframe tbody tr th {\n",
              "        vertical-align: top;\n",
              "    }\n",
              "\n",
              "    .dataframe thead th {\n",
              "        text-align: right;\n",
              "    }\n",
              "</style>\n",
              "<table border=\"1\" class=\"dataframe\">\n",
              "  <thead>\n",
              "    <tr style=\"text-align: right;\">\n",
              "      <th></th>\n",
              "      <th>test</th>\n",
              "      <th>lambda</th>\n",
              "      <th>chi2</th>\n",
              "      <th>dof</th>\n",
              "      <th>pval</th>\n",
              "      <th>cramer</th>\n",
              "      <th>power</th>\n",
              "    </tr>\n",
              "  </thead>\n",
              "  <tbody>\n",
              "    <tr>\n",
              "      <th>0</th>\n",
              "      <td>pearson</td>\n",
              "      <td>1.0</td>\n",
              "      <td>10.61897</td>\n",
              "      <td>24.0</td>\n",
              "      <td>0.991481</td>\n",
              "      <td>0.009285</td>\n",
              "      <td>0.132144</td>\n",
              "    </tr>\n",
              "  </tbody>\n",
              "</table>\n",
              "</div>\n",
              "    <div class=\"colab-df-buttons\">\n",
              "\n",
              "  <div class=\"colab-df-container\">\n",
              "    <button class=\"colab-df-convert\" onclick=\"convertToInteractive('df-f197c8fc-17da-46d7-8907-cace681f8809')\"\n",
              "            title=\"Convert this dataframe to an interactive table.\"\n",
              "            style=\"display:none;\">\n",
              "\n",
              "  <svg xmlns=\"http://www.w3.org/2000/svg\" height=\"24px\" viewBox=\"0 -960 960 960\">\n",
              "    <path d=\"M120-120v-720h720v720H120Zm60-500h600v-160H180v160Zm220 220h160v-160H400v160Zm0 220h160v-160H400v160ZM180-400h160v-160H180v160Zm440 0h160v-160H620v160ZM180-180h160v-160H180v160Zm440 0h160v-160H620v160Z\"/>\n",
              "  </svg>\n",
              "    </button>\n",
              "\n",
              "  <style>\n",
              "    .colab-df-container {\n",
              "      display:flex;\n",
              "      gap: 12px;\n",
              "    }\n",
              "\n",
              "    .colab-df-convert {\n",
              "      background-color: #E8F0FE;\n",
              "      border: none;\n",
              "      border-radius: 50%;\n",
              "      cursor: pointer;\n",
              "      display: none;\n",
              "      fill: #1967D2;\n",
              "      height: 32px;\n",
              "      padding: 0 0 0 0;\n",
              "      width: 32px;\n",
              "    }\n",
              "\n",
              "    .colab-df-convert:hover {\n",
              "      background-color: #E2EBFA;\n",
              "      box-shadow: 0px 1px 2px rgba(60, 64, 67, 0.3), 0px 1px 3px 1px rgba(60, 64, 67, 0.15);\n",
              "      fill: #174EA6;\n",
              "    }\n",
              "\n",
              "    .colab-df-buttons div {\n",
              "      margin-bottom: 4px;\n",
              "    }\n",
              "\n",
              "    [theme=dark] .colab-df-convert {\n",
              "      background-color: #3B4455;\n",
              "      fill: #D2E3FC;\n",
              "    }\n",
              "\n",
              "    [theme=dark] .colab-df-convert:hover {\n",
              "      background-color: #434B5C;\n",
              "      box-shadow: 0px 1px 3px 1px rgba(0, 0, 0, 0.15);\n",
              "      filter: drop-shadow(0px 1px 2px rgba(0, 0, 0, 0.3));\n",
              "      fill: #FFFFFF;\n",
              "    }\n",
              "  </style>\n",
              "\n",
              "    <script>\n",
              "      const buttonEl =\n",
              "        document.querySelector('#df-f197c8fc-17da-46d7-8907-cace681f8809 button.colab-df-convert');\n",
              "      buttonEl.style.display =\n",
              "        google.colab.kernel.accessAllowed ? 'block' : 'none';\n",
              "\n",
              "      async function convertToInteractive(key) {\n",
              "        const element = document.querySelector('#df-f197c8fc-17da-46d7-8907-cace681f8809');\n",
              "        const dataTable =\n",
              "          await google.colab.kernel.invokeFunction('convertToInteractive',\n",
              "                                                    [key], {});\n",
              "        if (!dataTable) return;\n",
              "\n",
              "        const docLinkHtml = 'Like what you see? Visit the ' +\n",
              "          '<a target=\"_blank\" href=https://colab.research.google.com/notebooks/data_table.ipynb>data table notebook</a>'\n",
              "          + ' to learn more about interactive tables.';\n",
              "        element.innerHTML = '';\n",
              "        dataTable['output_type'] = 'display_data';\n",
              "        await google.colab.output.renderOutput(dataTable, element);\n",
              "        const docLink = document.createElement('div');\n",
              "        docLink.innerHTML = docLinkHtml;\n",
              "        element.appendChild(docLink);\n",
              "      }\n",
              "    </script>\n",
              "  </div>\n",
              "\n",
              "    </div>\n",
              "  </div>\n"
            ]
          },
          "metadata": {}
        }
      ],
      "source": [
        "#  Perfrom chisquare_test of independence\n",
        "expected, observed, stats = pg.chi2_independence(data=sample_offence,\n",
        "                                                 x='New_ONS_offence_group',\n",
        "                                                 y='Financial_Quarter')\n",
        "\n",
        "# Displays output\n",
        "display(stats.iloc[0:1, :])"
      ]
    },
    {
      "cell_type": "markdown",
      "source": [
        "### Hypothesis_4\n",
        "\n",
        "-  Are certain offense groups or subgroups more likely to occur in specific police force jurisdictions?\n",
        "    * H0: The distribution of offense groups is the same across different police force jurisdictions.\n",
        "    * Ha: The distribution of offense groups is different across different police force jurisdictions.\n",
        "    * Test: Chi-square test of independence.\n",
        "\n",
        "- Result:\n",
        "  - Our pvalue `0.723937` is greater than our significane level 0.1, we fail to reject the null hypothesis\n",
        "\n",
        "  - Therefore, he distribution of offense groups is the same across different police force jurisdictions\n",
        "\n",
        "- Performed using:\n",
        "  - chi2_independence: a method from the pingouin package"
      ],
      "metadata": {
        "id": "r3gG1VnjOLvz"
      }
    },
    {
      "cell_type": "code",
      "execution_count": 37,
      "metadata": {
        "id": "i5ib8wYaCsQ4",
        "colab": {
          "base_uri": "https://localhost:8080/",
          "height": 81
        },
        "outputId": "0176afc1-85e1-4875-96e4-4684c9b5eb44"
      },
      "outputs": [
        {
          "output_type": "display_data",
          "data": {
            "text/plain": [
              "      test  lambda      chi2    dof      pval    cramer    power\n",
              "0  pearson     1.0  327.9903  344.0  0.723937  0.031599  0.44586"
            ],
            "text/html": [
              "\n",
              "  <div id=\"df-8c7330f1-ff4a-4ca6-8883-2f1daa4bf70f\" class=\"colab-df-container\">\n",
              "    <div>\n",
              "<style scoped>\n",
              "    .dataframe tbody tr th:only-of-type {\n",
              "        vertical-align: middle;\n",
              "    }\n",
              "\n",
              "    .dataframe tbody tr th {\n",
              "        vertical-align: top;\n",
              "    }\n",
              "\n",
              "    .dataframe thead th {\n",
              "        text-align: right;\n",
              "    }\n",
              "</style>\n",
              "<table border=\"1\" class=\"dataframe\">\n",
              "  <thead>\n",
              "    <tr style=\"text-align: right;\">\n",
              "      <th></th>\n",
              "      <th>test</th>\n",
              "      <th>lambda</th>\n",
              "      <th>chi2</th>\n",
              "      <th>dof</th>\n",
              "      <th>pval</th>\n",
              "      <th>cramer</th>\n",
              "      <th>power</th>\n",
              "    </tr>\n",
              "  </thead>\n",
              "  <tbody>\n",
              "    <tr>\n",
              "      <th>0</th>\n",
              "      <td>pearson</td>\n",
              "      <td>1.0</td>\n",
              "      <td>327.9903</td>\n",
              "      <td>344.0</td>\n",
              "      <td>0.723937</td>\n",
              "      <td>0.031599</td>\n",
              "      <td>0.44586</td>\n",
              "    </tr>\n",
              "  </tbody>\n",
              "</table>\n",
              "</div>\n",
              "    <div class=\"colab-df-buttons\">\n",
              "\n",
              "  <div class=\"colab-df-container\">\n",
              "    <button class=\"colab-df-convert\" onclick=\"convertToInteractive('df-8c7330f1-ff4a-4ca6-8883-2f1daa4bf70f')\"\n",
              "            title=\"Convert this dataframe to an interactive table.\"\n",
              "            style=\"display:none;\">\n",
              "\n",
              "  <svg xmlns=\"http://www.w3.org/2000/svg\" height=\"24px\" viewBox=\"0 -960 960 960\">\n",
              "    <path d=\"M120-120v-720h720v720H120Zm60-500h600v-160H180v160Zm220 220h160v-160H400v160Zm0 220h160v-160H400v160ZM180-400h160v-160H180v160Zm440 0h160v-160H620v160ZM180-180h160v-160H180v160Zm440 0h160v-160H620v160Z\"/>\n",
              "  </svg>\n",
              "    </button>\n",
              "\n",
              "  <style>\n",
              "    .colab-df-container {\n",
              "      display:flex;\n",
              "      gap: 12px;\n",
              "    }\n",
              "\n",
              "    .colab-df-convert {\n",
              "      background-color: #E8F0FE;\n",
              "      border: none;\n",
              "      border-radius: 50%;\n",
              "      cursor: pointer;\n",
              "      display: none;\n",
              "      fill: #1967D2;\n",
              "      height: 32px;\n",
              "      padding: 0 0 0 0;\n",
              "      width: 32px;\n",
              "    }\n",
              "\n",
              "    .colab-df-convert:hover {\n",
              "      background-color: #E2EBFA;\n",
              "      box-shadow: 0px 1px 2px rgba(60, 64, 67, 0.3), 0px 1px 3px 1px rgba(60, 64, 67, 0.15);\n",
              "      fill: #174EA6;\n",
              "    }\n",
              "\n",
              "    .colab-df-buttons div {\n",
              "      margin-bottom: 4px;\n",
              "    }\n",
              "\n",
              "    [theme=dark] .colab-df-convert {\n",
              "      background-color: #3B4455;\n",
              "      fill: #D2E3FC;\n",
              "    }\n",
              "\n",
              "    [theme=dark] .colab-df-convert:hover {\n",
              "      background-color: #434B5C;\n",
              "      box-shadow: 0px 1px 3px 1px rgba(0, 0, 0, 0.15);\n",
              "      filter: drop-shadow(0px 1px 2px rgba(0, 0, 0, 0.3));\n",
              "      fill: #FFFFFF;\n",
              "    }\n",
              "  </style>\n",
              "\n",
              "    <script>\n",
              "      const buttonEl =\n",
              "        document.querySelector('#df-8c7330f1-ff4a-4ca6-8883-2f1daa4bf70f button.colab-df-convert');\n",
              "      buttonEl.style.display =\n",
              "        google.colab.kernel.accessAllowed ? 'block' : 'none';\n",
              "\n",
              "      async function convertToInteractive(key) {\n",
              "        const element = document.querySelector('#df-8c7330f1-ff4a-4ca6-8883-2f1daa4bf70f');\n",
              "        const dataTable =\n",
              "          await google.colab.kernel.invokeFunction('convertToInteractive',\n",
              "                                                    [key], {});\n",
              "        if (!dataTable) return;\n",
              "\n",
              "        const docLinkHtml = 'Like what you see? Visit the ' +\n",
              "          '<a target=\"_blank\" href=https://colab.research.google.com/notebooks/data_table.ipynb>data table notebook</a>'\n",
              "          + ' to learn more about interactive tables.';\n",
              "        element.innerHTML = '';\n",
              "        dataTable['output_type'] = 'display_data';\n",
              "        await google.colab.output.renderOutput(dataTable, element);\n",
              "        const docLink = document.createElement('div');\n",
              "        docLink.innerHTML = docLinkHtml;\n",
              "        element.appendChild(docLink);\n",
              "      }\n",
              "    </script>\n",
              "  </div>\n",
              "\n",
              "    </div>\n",
              "  </div>\n"
            ]
          },
          "metadata": {}
        }
      ],
      "source": [
        "#  Perfrom chisquare_test of independence\n",
        "expected, observed, stats = pg.chi2_independence(data=sample_offence,\n",
        "                                                 x='New_ONS_offence_group',\n",
        "                                                 y='Force_Name')\n",
        "\n",
        "# Displays output\n",
        "display(stats.iloc[0:1, :])"
      ]
    },
    {
      "cell_type": "markdown",
      "metadata": {
        "id": "aKFQmG8hCsQ4"
      },
      "source": [
        "## Data Visualization"
      ]
    },
    {
      "cell_type": "code",
      "execution_count": 38,
      "metadata": {
        "id": "7gMF7MQOCsQ5",
        "colab": {
          "base_uri": "https://localhost:8080/",
          "height": 453
        },
        "outputId": "9dd3e33a-324e-4e38-aa2b-268fdef65e76"
      },
      "outputs": [
        {
          "output_type": "display_data",
          "data": {
            "text/plain": [
              "<Figure size 640x480 with 1 Axes>"
            ],
            "image/png": "[encoded data removed]"
          },
          "metadata": {}
        }
      ],
      "source": [
        "# Sample target columns from dataframe\n",
        "sct = offence_final.select('Financial_Year', 'Number_of_Offences').sample(False, 0.50, 42).toPandas()\n",
        "\n",
        "# Scatter plot to check for relationship between Financial year and Number of Offences\n",
        "sns.scatterplot(data=sct, x='Financial_Year',\n",
        "                y='Number_of_Offences').set(xlabel='Financial Year',\n",
        "                                            ylabel='Number of Offences',\n",
        "                                  xticks=[2019, 2020, 2021, 2022, 2023])\n",
        "\n",
        "# Show plot\n",
        "plt.show()"
      ]
    },
    {
      "cell_type": "code",
      "execution_count": 39,
      "metadata": {
        "id": "p9Mw4lcLCsQ5",
        "colab": {
          "base_uri": "https://localhost:8080/",
          "height": 477
        },
        "outputId": "0c0b91ca-70cb-48cf-c4ad-70783b54ae52"
      },
      "outputs": [
        {
          "output_type": "display_data",
          "data": {
            "text/plain": [
              "<Figure size 640x480 with 1 Axes>"
            ],
            "image/png": "[encoded data removed]"
          },
          "metadata": {}
        }
      ],
      "source": [
        "# Gets sample from target column and converts to pandas\n",
        "num_off_hst = offence_final.select('Number_of_Offences').sample(False,\n",
        "                                                                0.50,\n",
        "                                                                42).toPandas()\n",
        "# Plot Distribution\n",
        "num_off_hst.plot(kind='hist', bins=80)\n",
        "plt.title('Distribution of Number of Offences')\n",
        "plt.legend('')\n",
        "plt.xlabel('Number of offences');"
      ]
    },
    {
      "cell_type": "code",
      "execution_count": 40,
      "metadata": {
        "id": "YxLUo4l7CsQ5",
        "colab": {
          "base_uri": "https://localhost:8080/",
          "height": 584
        },
        "outputId": "43466c67-db41-4548-f326-cbd216b7986a"
      },
      "outputs": [
        {
          "output_type": "display_data",
          "data": {
            "text/plain": [
              "<Figure size 1400x600 with 2 Axes>"
            ],
            "image/png": "[encoded data removed]"
          },
          "metadata": {}
        }
      ],
      "source": [
        "# Set the figure size for plot\n",
        "fig, ax = plt.subplots(1, 2, figsize=(14, 6))\n",
        "\n",
        "# Group data by financial year and find the sum of each year\n",
        "trends_1 = offence_final.groupBy('Financial_Year').sum('Number_of_Offences').toPandas()\n",
        "\n",
        "# Group data by financial quarter and find the sum of each offences\n",
        "trends_2 = offence_final.groupBy('Financial_Quarter').sum('Number_of_Offences').toPandas()\n",
        "\n",
        "# Plot Trends_1\n",
        "sns.lineplot(data=trends_1,  x='Financial_Year', y='sum(Number_of_Offences)',\n",
        "                    ax=ax[0]).set(title='Financial Year vs Sum of Number of offences',\n",
        "                    xlabel='Financial Year',\n",
        "                    ylabel='Sum of Number of Offences(thousands)',\n",
        "                    xticks=[2019, 2020, 2021, 2022, 2023])\n",
        "# Plot  Trends_2\n",
        "sns.lineplot(data=trends_2,  x='Financial_Quarter', y='sum(Number_of_Offences)',\n",
        "                    ax=ax[1]).set(title='Financial Year vs Sum of Number of offences',\n",
        "                    xlabel='Financial Quarter',\n",
        "                    ylabel='Sum of Number of Offences(thousands)',\n",
        "                    xticks=[1, 2, 3, 4],)\n",
        "# Show plot\n",
        "plt.show()"
      ]
    },
    {
      "cell_type": "code",
      "execution_count": 41,
      "metadata": {
        "id": "Kq5FCAxZCsQ6",
        "colab": {
          "base_uri": "https://localhost:8080/",
          "height": 584
        },
        "outputId": "fb38a0aa-8cdd-4c19-c91b-563df89ad6af"
      },
      "outputs": [
        {
          "output_type": "display_data",
          "data": {
            "text/plain": [
              "<Figure size 1400x600 with 2 Axes>"
            ],
            "image/png": "[encoded data removed]"
          },
          "metadata": {}
        }
      ],
      "source": [
        "# Set the figure size for plot\n",
        "fig, ax = plt.subplots(1, 2, figsize=(14, 6))\n",
        "\n",
        "# Plot Barplot of Financial year vs number of offences\n",
        "sns.barplot(data=trends_1,  x='Financial_Year', y='sum(Number_of_Offences)',\n",
        "            ax=ax[0]).set(title='Financial Year vs Sum of Number of offences',\n",
        "            xlabel='Financial Year',\n",
        "            ylabel='Sum of Number of Offences(thousands)')\n",
        "\n",
        "# Plot Barplot of Financial quarter vs number of offences\n",
        "sns.barplot(data=trends_2,  x='Financial_Quarter', y='sum(Number_of_Offences)',\n",
        "              ax=ax[1]).set(title='Financial Year vs Sum of Number of offences',\n",
        "              xlabel='Financial Quarter',\n",
        "              ylabel='Sum of Number of Offences(thousands)')\n",
        "\n",
        "# Show plot\n",
        "plt.show()"
      ]
    },
    {
      "cell_type": "markdown",
      "metadata": {
        "id": "B-sIUcWmCsQ6"
      },
      "source": [
        "## Machine Learning\n",
        "\n",
        "### **Model Modeling**\n",
        "- Offense Classification:\n",
        "    - Can we accurately classify offenses into different groups based on their characteristics?\n",
        "\n",
        "- The Machine Algorithm used was Decision Tree classifier as it can be used to make multiclass predictions"
      ]
    },
    {
      "cell_type": "markdown",
      "source": [
        "### CLASSIFICATION\n",
        "- Task done\n",
        "  - get features for X and y\n",
        "  - encode values in y to numeric, due to some ml algorithm being unable to work with categorical data\n",
        "  - Apply the encoding to y using `replace`, it replaces all values with values in the encoder\n",
        "  - Using `OrdinalEncoder` to encode values in X_b into numeric\n",
        "  - Fit and transform X_b into new variable `X_b_ord`\n",
        "  - Append both X_a and X_b to from X.\n",
        "  - Split X, y into train/test\n",
        "  - Fit training sample into DecisionTree classifer\n",
        "  - Make predictions using `tree`\n",
        "  - Evaluate the accuracy of `tree`"
      ],
      "metadata": {
        "id": "NA5QAXvyemmw"
      }
    },
    {
      "cell_type": "code",
      "execution_count": 42,
      "metadata": {
        "id": "VZFTC6y3CsQ6"
      },
      "outputs": [],
      "source": [
        "# Features variable X_a and _X_b\n",
        "X_a = offence_final.select('Financial_Year', 'Financial_Quarter',\n",
        "                           'Number_of_Offences' ).toPandas()\n",
        "X_b = offence_final.select('Offence_Code','Force_Name' ).toPandas()\n",
        "# target variable\n",
        "y = offence_final.select('New_ONS_offence_group').toPandas()"
      ]
    },
    {
      "cell_type": "code",
      "execution_count": 43,
      "metadata": {
        "id": "oQuxmEHgCsQ7"
      },
      "outputs": [],
      "source": [
        "# Label encoding for Y\n",
        "encoder = {\n",
        "    'Sexual offences': 0,\n",
        "    'Miscellaneous crimes against society': 1,\n",
        "    'Violence against the person':  2,\n",
        "    'Criminal damage and arson': 3,\n",
        "    'Theft offences': 4,\n",
        "    'Possession of weapons offences':5,\n",
        "    'Drug offences': 6,\n",
        "    'Robbery': 7,\n",
        "    'Public order offences': 8\n",
        "}\n",
        "\n",
        "# Encode values into y\n",
        "y = y.replace(encoder)"
      ]
    },
    {
      "cell_type": "code",
      "execution_count": 44,
      "metadata": {
        "id": "hq90P1diCsQ7"
      },
      "outputs": [],
      "source": [
        "# Initialize one hot encoder\n",
        "ord = OrdinalEncoder()\n",
        "X_b_ord = ord.fit_transform(X_b)\n",
        "\n",
        "# Features vairable\n",
        "X = pd.concat([X_a, X_b_ord], axis=1)"
      ]
    },
    {
      "cell_type": "code",
      "execution_count": 45,
      "metadata": {
        "id": "pIe3Lk8ECsQ7"
      },
      "outputs": [],
      "source": [
        "# Split into train/test samples\n",
        "X_train, X_test, y_train, y_test = train_test_split(X, y,\n",
        "                                                    random_state=42,\n",
        "                                                    test_size=0.2)"
      ]
    },
    {
      "cell_type": "code",
      "execution_count": 46,
      "metadata": {
        "id": "npL0AHaUCsQ8",
        "colab": {
          "base_uri": "https://localhost:8080/"
        },
        "outputId": "a19d1c54-d3f6-46cf-d765-b62068928127"
      },
      "outputs": [
        {
          "output_type": "stream",
          "name": "stdout",
          "text": [
            "The model made using Decision Tree Classifier has an accuracy of : 84.58394338701805%\n"
          ]
        }
      ],
      "source": [
        "# Create Instance\n",
        "tree = DecisionTreeClassifier(max_depth=12, random_state=42)\n",
        "\n",
        "# Fit to training data\n",
        "tree.fit(X_train, y_train)\n",
        "\n",
        "# Evaluate model\n",
        "y_pred = tree.predict(X_test)\n",
        "accuracy = accuracy_score(y_test, y_pred)\n",
        "\n",
        "print(f'The model made using Decision Tree Classifier has an accuracy of : {accuracy*100}%')"
      ]
    },
    {
      "cell_type": "markdown",
      "source": [
        "##### Model Performance (Decision Tree)\n",
        "- Models accuracy on training and test data show that our model is able to generalize well and that the model is not overfitting or underfitting."
      ],
      "metadata": {
        "id": "0zBVeqhs6sd1"
      }
    },
    {
      "cell_type": "code",
      "execution_count": 47,
      "metadata": {
        "id": "5cb0NWmUCsQ9",
        "colab": {
          "base_uri": "https://localhost:8080/"
        },
        "outputId": "6fe5f808-cc7d-4492-ffd0-11a2ce46905a"
      },
      "outputs": [
        {
          "output_type": "stream",
          "name": "stdout",
          "text": [
            "The model made using Decision Tree Classifier has an accuracy of : 84.66231468488805%\n"
          ]
        }
      ],
      "source": [
        "# Further evalaution to check for overfitting\n",
        "y_train_pred = tree.predict(X_train)\n",
        "accuracy_sc = accuracy_score(y_train, y_train_pred)\n",
        "\n",
        "print(f'The model made using Decision Tree Classifier has an accuracy of : {accuracy_sc*100}%')"
      ]
    },
    {
      "cell_type": "markdown",
      "source": [
        "### LINEAR REGRESSION"
      ],
      "metadata": {
        "id": "TiHU6LO_fEFC"
      }
    },
    {
      "cell_type": "markdown",
      "source": [
        "- Task done:\n",
        "  - using `toPandas` method to convert offence_final to pandas dataframe\n",
        "  - select target feature `Number_of_Offences`\n",
        "  - Initiate Ordinal Encoder to convert all categorical values in columns to 0s and 1s.\n",
        "  - Split X, y into train/test data\n",
        "  - Initialize LinearRegression\n",
        "  - Fit and train model using training data\n",
        "  - Make predictions using model\n",
        "  - Evaluate model performance"
      ],
      "metadata": {
        "id": "G1FRay-lgJy6"
      }
    },
    {
      "cell_type": "code",
      "source": [
        "# Creates pandas dataframe\n",
        "reg_df = offence_final.toPandas()"
      ],
      "metadata": {
        "id": "fT8at3kMfG4j"
      },
      "execution_count": 48,
      "outputs": []
    },
    {
      "cell_type": "code",
      "source": [
        "# Subsets for target in reg_df\n",
        "target = 'Number_of_Offences'\n",
        "y = reg_df[target]"
      ],
      "metadata": {
        "id": "xO1_tO_EfGyo"
      },
      "execution_count": 49,
      "outputs": []
    },
    {
      "cell_type": "code",
      "source": [
        "# Initiate OneHot Encoder\n",
        "ohe = OneHotEncoder(use_cat_names=True)\n",
        "X = ohe.fit_transform(reg_df.drop(columns=target))"
      ],
      "metadata": {
        "id": "n0hR_C31fGtA"
      },
      "execution_count": 50,
      "outputs": []
    },
    {
      "cell_type": "code",
      "source": [
        "# Split data into train/test\n",
        "X_train, X_test, y_train, y_test = train_test_split(X, y, test_size=0.20, random_state=42)"
      ],
      "metadata": {
        "id": "fJ815-tLfGf3"
      },
      "execution_count": 51,
      "outputs": []
    },
    {
      "cell_type": "code",
      "source": [
        "# Initialize LinearReg model\n",
        "lr = LinearRegression(fit_intercept=True, n_jobs=4)"
      ],
      "metadata": {
        "id": "BXTu2H-ohNIl"
      },
      "execution_count": 52,
      "outputs": []
    },
    {
      "cell_type": "code",
      "source": [
        "# Fit the model for training\n",
        "lr.fit(X_train, y_train)"
      ],
      "metadata": {
        "id": "pBdBvZSShZS2",
        "colab": {
          "base_uri": "https://localhost:8080/",
          "height": 75
        },
        "outputId": "a947b9fb-06f2-4b6c-8162-253298c10a83"
      },
      "execution_count": 53,
      "outputs": [
        {
          "output_type": "execute_result",
          "data": {
            "text/plain": [
              "LinearRegression(n_jobs=4)"
            ],
            "text/html": [
              "<style>#sk-container-id-1 {color: black;background-color: white;}#sk-container-id-1 pre{padding: 0;}#sk-container-id-1 div.sk-toggleable {background-color: white;}#sk-container-id-1 label.sk-toggleable__label {cursor: pointer;display: block;width: 100%;margin-bottom: 0;padding: 0.3em;box-sizing: border-box;text-align: center;}#sk-container-id-1 label.sk-toggleable__label-arrow:before {content: \"▸\";float: left;margin-right: 0.25em;color: #696969;}#sk-container-id-1 label.sk-toggleable__label-arrow:hover:before {color: black;}#sk-container-id-1 div.sk-estimator:hover label.sk-toggleable__label-arrow:before {color: black;}#sk-container-id-1 div.sk-toggleable__content {max-height: 0;max-width: 0;overflow: hidden;text-align: left;background-color: #f0f8ff;}#sk-container-id-1 div.sk-toggleable__content pre {margin: 0.2em;color: black;border-radius: 0.25em;background-color: #f0f8ff;}#sk-container-id-1 input.sk-toggleable__control:checked~div.sk-toggleable__content {max-height: 200px;max-width: 100%;overflow: auto;}#sk-container-id-1 input.sk-toggleable__control:checked~label.sk-toggleable__label-arrow:before {content: \"▾\";}#sk-container-id-1 div.sk-estimator input.sk-toggleable__control:checked~label.sk-toggleable__label {background-color: #d4ebff;}#sk-container-id-1 div.sk-label input.sk-toggleable__control:checked~label.sk-toggleable__label {background-color: #d4ebff;}#sk-container-id-1 input.sk-hidden--visually {border: 0;clip: rect(1px 1px 1px 1px);clip: rect(1px, 1px, 1px, 1px);height: 1px;margin: -1px;overflow: hidden;padding: 0;position: absolute;width: 1px;}#sk-container-id-1 div.sk-estimator {font-family: monospace;background-color: #f0f8ff;border: 1px dotted black;border-radius: 0.25em;box-sizing: border-box;margin-bottom: 0.5em;}#sk-container-id-1 div.sk-estimator:hover {background-color: #d4ebff;}#sk-container-id-1 div.sk-parallel-item::after {content: \"\";width: 100%;border-bottom: 1px solid gray;flex-grow: 1;}#sk-container-id-1 div.sk-label:hover label.sk-toggleable__label {background-color: #d4ebff;}#sk-container-id-1 div.sk-serial::before {content: \"\";position: absolute;border-left: 1px solid gray;box-sizing: border-box;top: 0;bottom: 0;left: 50%;z-index: 0;}#sk-container-id-1 div.sk-serial {display: flex;flex-direction: column;align-items: center;background-color: white;padding-right: 0.2em;padding-left: 0.2em;position: relative;}#sk-container-id-1 div.sk-item {position: relative;z-index: 1;}#sk-container-id-1 div.sk-parallel {display: flex;align-items: stretch;justify-content: center;background-color: white;position: relative;}#sk-container-id-1 div.sk-item::before, #sk-container-id-1 div.sk-parallel-item::before {content: \"\";position: absolute;border-left: 1px solid gray;box-sizing: border-box;top: 0;bottom: 0;left: 50%;z-index: -1;}#sk-container-id-1 div.sk-parallel-item {display: flex;flex-direction: column;z-index: 1;position: relative;background-color: white;}#sk-container-id-1 div.sk-parallel-item:first-child::after {align-self: flex-end;width: 50%;}#sk-container-id-1 div.sk-parallel-item:last-child::after {align-self: flex-start;width: 50%;}#sk-container-id-1 div.sk-parallel-item:only-child::after {width: 0;}#sk-container-id-1 div.sk-dashed-wrapped {border: 1px dashed gray;margin: 0 0.4em 0.5em 0.4em;box-sizing: border-box;padding-bottom: 0.4em;background-color: white;}#sk-container-id-1 div.sk-label label {font-family: monospace;font-weight: bold;display: inline-block;line-height: 1.2em;}#sk-container-id-1 div.sk-label-container {text-align: center;}#sk-container-id-1 div.sk-container {/* jupyter's `normalize.less` sets `[hidden] { display: none; }` but bootstrap.min.css set `[hidden] { display: none !important; }` so we also need the `!important` here to be able to override the default hidden behavior on the sphinx rendered scikit-learn.org. See: https://github.com/scikit-learn/scikit-learn/issues/21755 */display: inline-block !important;position: relative;}#sk-container-id-1 div.sk-text-repr-fallback {display: none;}</style><div id=\"sk-container-id-1\" class=\"sk-top-container\"><div class=\"sk-text-repr-fallback\"><pre>LinearRegression(n_jobs=4)</pre><b>In a Jupyter environment, please rerun this cell to show the HTML representation or trust the notebook. <br />On GitHub, the HTML representation is unable to render, please try loading this page with nbviewer.org.</b></div><div class=\"sk-container\" hidden><div class=\"sk-item\"><div class=\"sk-estimator sk-toggleable\"><input class=\"sk-toggleable__control sk-hidden--visually\" id=\"sk-estimator-id-1\" type=\"checkbox\" checked><label for=\"sk-estimator-id-1\" class=\"sk-toggleable__label sk-toggleable__label-arrow\">LinearRegression</label><div class=\"sk-toggleable__content\"><pre>LinearRegression(n_jobs=4)</pre></div></div></div></div></div>"
            ]
          },
          "metadata": {},
          "execution_count": 53
        }
      ]
    },
    {
      "cell_type": "code",
      "source": [
        "# Make Prediction based on model\n",
        "y_pred = lr.predict(X_test)\n",
        "y_pred"
      ],
      "metadata": {
        "id": "I9U60lKwh3bQ",
        "colab": {
          "base_uri": "https://localhost:8080/"
        },
        "outputId": "c3fd035e-ca6f-4263-c273-205972df346d"
      },
      "execution_count": 54,
      "outputs": [
        {
          "output_type": "execute_result",
          "data": {
            "text/plain": [
              "array([  0.6875  ,   7.671875, -14.03125 , ..., 297.6875  , -38.21875 ,\n",
              "       -28.78125 ])"
            ]
          },
          "metadata": {},
          "execution_count": 54
        }
      ]
    },
    {
      "cell_type": "code",
      "source": [
        "# Evaluate accuracy of our model\n",
        "lr.score(X_test, y_test)"
      ],
      "metadata": {
        "id": "3TQtbyPYhea_",
        "colab": {
          "base_uri": "https://localhost:8080/"
        },
        "outputId": "fec5bc78-a4bc-4594-fb65-5fb220d172a8"
      },
      "execution_count": 55,
      "outputs": [
        {
          "output_type": "execute_result",
          "data": {
            "text/plain": [
              "0.7114966053824343"
            ]
          },
          "metadata": {},
          "execution_count": 55
        }
      ]
    },
    {
      "cell_type": "code",
      "source": [
        "# USE MSE to evaluate model\n",
        "MSE = mean_squared_error(y_test, y_pred)\n",
        "display(f'Mean Squared Error: {np.round(MSE)}')"
      ],
      "metadata": {
        "id": "-floy6DHBgG-",
        "colab": {
          "base_uri": "https://localhost:8080/",
          "height": 35
        },
        "outputId": "a0025d38-9d47-4d56-a079-78f3f0033735"
      },
      "execution_count": 56,
      "outputs": [
        {
          "output_type": "display_data",
          "data": {
            "text/plain": [
              "'Mean Squared Error: 7379.0'"
            ],
            "application/vnd.google.colaboratory.intrinsic+json": {
              "type": "string"
            }
          },
          "metadata": {}
        }
      ]
    },
    {
      "cell_type": "code",
      "source": [
        "# Use RMSE to evaluate model\n",
        "RMSE = mean_squared_error(y_test, y_pred, squared=False)\n",
        "display(f'Root Mean Squared Error: {np.round(RMSE)}')"
      ],
      "metadata": {
        "id": "BVluofvPiGgW",
        "colab": {
          "base_uri": "https://localhost:8080/",
          "height": 35
        },
        "outputId": "f77c3ef4-e696-47f3-8b56-f3303f52758c"
      },
      "execution_count": 57,
      "outputs": [
        {
          "output_type": "display_data",
          "data": {
            "text/plain": [
              "'Root Mean Squared Error: 86.0'"
            ],
            "application/vnd.google.colaboratory.intrinsic+json": {
              "type": "string"
            }
          },
          "metadata": {}
        }
      ]
    },
    {
      "cell_type": "code",
      "source": [
        "# Use MAE to evaluate model\n",
        "MAE = mean_absolute_error(y_test, y_pred)\n",
        "display(f'Mean Absolute Error: {np.round(MAE)}')"
      ],
      "metadata": {
        "id": "y-AVquRbCEGH",
        "colab": {
          "base_uri": "https://localhost:8080/",
          "height": 35
        },
        "outputId": "fd988bbb-906f-48dc-eb38-8d13923e590a"
      },
      "execution_count": 58,
      "outputs": [
        {
          "output_type": "display_data",
          "data": {
            "text/plain": [
              "'Mean Absolute Error: 48.0'"
            ],
            "application/vnd.google.colaboratory.intrinsic+json": {
              "type": "string"
            }
          },
          "metadata": {}
        }
      ]
    },
    {
      "cell_type": "markdown",
      "source": [
        "##### Model Performance (Linear Regression)\n",
        "- Model's predicted values have a strong relationship with actual values, this shows that our model is performing well."
      ],
      "metadata": {
        "id": "ltF3DV9w6T_2"
      }
    },
    {
      "cell_type": "code",
      "source": [
        "# Vizualizing Actual vs predicted values\n",
        "sns.scatterplot(x=y_test, y=y_pred,).set(xlabel='Actual Valuses',\n",
        "                                              ylabel='Predicted Values',\n",
        "                                              title='Actual vs Predicated Values(Linear Regression)')\n",
        "plt.show();"
      ],
      "metadata": {
        "id": "aW8iLjXXibZZ",
        "colab": {
          "base_uri": "https://localhost:8080/",
          "height": 477
        },
        "outputId": "ff423fe0-f832-4d5b-e6df-5cce91a98f9d"
      },
      "execution_count": 59,
      "outputs": [
        {
          "output_type": "display_data",
          "data": {
            "text/plain": [
              "<Figure size 640x480 with 1 Axes>"
            ],
            "image/png": "[encoded data removed]"
          },
          "metadata": {}
        }
      ]
    },
    {
      "cell_type": "markdown",
      "source": [
        "##### Deployment of Models\n",
        "- Models are pickled and saved, and are also made ready for deployment"
      ],
      "metadata": {
        "id": "4yVRNHCs67UH"
      }
    },
    {
      "cell_type": "code",
      "execution_count": 60,
      "metadata": {
        "id": "Pzlyc6cdCsQ9"
      },
      "outputs": [],
      "source": [
        "# save model\n",
        "import pickle\n",
        "with open('model_tree.pkl', 'wb') as file:\n",
        "    pickle.dump(tree, file)"
      ]
    },
    {
      "cell_type": "code",
      "source": [
        "# save model\n",
        "import pickle\n",
        "with open('model_lr.pkl', 'wb') as file:\n",
        "    pickle.dump(lr, file)"
      ],
      "metadata": {
        "id": "cKWoSfoKFrqp"
      },
      "execution_count": 61,
      "outputs": []
    },
    {
      "cell_type": "markdown",
      "source": [
        "## Making  Use of our Model\n",
        "- using the classifier to classify which crime group some offences belong in\n",
        "- using the regressor to estimate the number of offences for different quarters of year 2024, 2025, 2026"
      ],
      "metadata": {
        "id": "e6TTNTt4ErNM"
      }
    },
    {
      "cell_type": "markdown",
      "source": [
        "### Json\n",
        "- contains future sample data to make predictions using the linear regressor model"
      ],
      "metadata": {
        "id": "v-VJBzGqh6U7"
      }
    },
    {
      "cell_type": "code",
      "source": [
        "# contains data for making future predictions\n",
        "pred_json = {\"Financial_Year\":{\"0\":2024,\"1\":2024,\"2\":2024,\"3\":2024,\"4\":2024,\"5\":2025,\"6\":2025,\"7\":2025,\"8\":2025,\"9\":2026,\"10\":2026,\"11\":2026,\"12\":2026,\"13\":2026,\"14\":2026},\"Financial_Quarter\":{\"0\":1,\"1\":3,\"2\":2,\"3\":4,\"4\":2,\"5\":4,\"6\":3,\"7\":2,\"8\":4,\"9\":3,\"10\":2,\"11\":3,\"12\":1,\"13\":1,\"14\":2},\"Force_Name\":{\"0\":\"South Yorkshire\",\"1\":\"Northumbria\",\"2\":\"Surrey\",\"3\":\"Hertfordshire\",\"4\":\"London, City of\",\"5\":\"West Mercia\",\"6\":\"Hampshire\",\"7\":\"Northumbria\",\"8\":\"Wiltshire\",\"9\":\"Norfolk\",\"10\":\"Northamptonshire\",\"11\":\"Bedfordshire\",\"12\":\"West Midlands\",\"13\":\"Metropolitan Police\",\"14\":\"Warwickshire\"},\"Offence_Description\":{\"0\":\"Arson endangering life\",\"1\":\"Conspiracy to murder\",\"2\":\"Disclosure, obstruction, false or misleading statements etc\",\"3\":\"Conspiracy to murder\",\"4\":\"Public fear, alarm or distress\",\"5\":\"Abuse of position of trust of a sexual nature\",\"6\":\"Perverting the course of justice\",\"7\":\"Racially or religiously aggravated assault without injury\",\"8\":\"Possession of controlled drugs (Cannabis)\",\"9\":\"Forgery or use of false drug prescription\",\"10\":\"Causing death or serious injury by dangerous driving\",\"11\":\"Forgery or use of false drug prescription\",\"12\":\"Other miscellaneous sexual offences\",\"13\":\"Sexual activity involving child under 16\",\"14\":\"Burglary in a dwelling(outcome only)\"},\"Offence_Group\":{\"0\":\"Criminal damage and arson\",\"1\":\"Violence against the person\",\"2\":\"Miscellaneous crimes against society\",\"3\":\"Violence against the person\",\"4\":\"Public order offences\",\"5\":\"Sexual offences\",\"6\":\"Miscellaneous crimes against society\",\"7\":\"Violence against the person\",\"8\":\"Drug offences\",\"9\":\"Miscellaneous crimes against society\",\"10\":\"Violence against the person\",\"11\":\"Miscellaneous crimes against society\",\"12\":\"Sexual offences\",\"13\":\"Sexual offences\",\"14\":\"Theft offences\"},\"Offence_Subgroup\":{\"0\":\"Arson\",\"1\":\"Violence without injury\",\"2\":\"Miscellaneous crimes against society\",\"3\":\"Violence without injury\",\"4\":\"Public order offences\",\"5\":\"Other sexual offences\",\"6\":\"Miscellaneous crimes against society\",\"7\":\"Violence without injury\",\"8\":\"Possession of drugs\",\"9\":\"Miscellaneous crimes against society\",\"10\":\"Death or serious injury - unlawful driving\",\"11\":\"Miscellaneous crimes against society\",\"12\":\"Other sexual offences\",\"13\":\"Other sexual offences\",\"14\":\"Domestic burglary\"},\"Offence_Code\":{\"0\":\"56A\",\"1\":\"3A\",\"2\":\"95\",\"3\":\"3A\",\"4\":\"9A\",\"5\":\"73\",\"6\":\"79\",\"7\":\"105B\",\"8\":\"92E\",\"9\":\"60\",\"10\":\"4.4\",\"11\":\"60\",\"12\":\"88C\",\"13\":\"22B\",\"14\":\"28A\"},\"New_ONS_offence_group\":{\"0\":\"Criminal damage and arson\",\"1\":\"Violence against the person\",\"2\":\"Miscellaneous crimes against society\",\"3\":\"Violence against the person\",\"4\":\"Public order offences\",\"5\":\"Sexual offences\",\"6\":\"Miscellaneous crimes against society\",\"7\":\"Violence against the person\",\"8\":\"Drug offences\",\"9\":\"Miscellaneous crimes against society\",\"10\":\"Violence against the person\",\"11\":\"Miscellaneous crimes against society\",\"12\":\"Sexual offences\",\"13\":\"Sexual offences\",\"14\":\"Theft offences\"},\"New_ONS_sub_offence_group\":{\"0\":\"Arson\",\"1\":\"Violence without injury\",\"2\":\"Miscellaneous crimes against society\",\"3\":\"Violence without injury\",\"4\":\"Public order offences\",\"5\":\"Other sexual offences\",\"6\":\"Miscellaneous crimes against society\",\"7\":\"Violence without injury\",\"8\":\"Possession of drugs\",\"9\":\"Miscellaneous crimes against society\",\"10\":\"Violence with injury\",\"11\":\"Miscellaneous crimes against society\",\"12\":\"Other sexual offences\",\"13\":\"Other sexual offences\",\"14\":\"Domestic burglary\"}}\n",
        "\n",
        "# Convert to dataframe\n",
        "predd = pd.DataFrame(pred_json)\n",
        "\n",
        "# Concatenate to make dataframe complete for OHE\n",
        "test = pd.concat([reg_df.drop(columns='Number_of_Offences'), predd])\n",
        "\n",
        "# Tranfrom test dataframe\n",
        "predd = ohe.fit_transform(test)\n",
        "\n",
        "# Subset Future data\n",
        "pred_df = predd.tail(15)"
      ],
      "metadata": {
        "id": "aARsIsDGbH8j"
      },
      "execution_count": 62,
      "outputs": []
    },
    {
      "cell_type": "code",
      "source": [
        "# Outputs future data sample after preprocessing\n",
        "pred_df"
      ],
      "metadata": {
        "colab": {
          "base_uri": "https://localhost:8080/",
          "height": 586
        },
        "id": "i2BaJ2g0xt2i",
        "outputId": "e5b27b78-fefa-4f3f-fe17-defc0fd6bd81"
      },
      "execution_count": 63,
      "outputs": [
        {
          "output_type": "execute_result",
          "data": {
            "text/plain": [
              "    Financial_Year  Financial_Quarter  Force_Name_Dorset  \\\n",
              "0             2024                  1                  0   \n",
              "1             2024                  3                  0   \n",
              "2             2024                  2                  0   \n",
              "3             2024                  4                  0   \n",
              "4             2024                  2                  0   \n",
              "5             2025                  4                  0   \n",
              "6             2025                  3                  0   \n",
              "7             2025                  2                  0   \n",
              "8             2025                  4                  0   \n",
              "9             2026                  3                  0   \n",
              "10            2026                  2                  0   \n",
              "11            2026                  3                  0   \n",
              "12            2026                  1                  0   \n",
              "13            2026                  1                  0   \n",
              "14            2026                  2                  0   \n",
              "\n",
              "    Force_Name_Cambridgeshire  Force_Name_Greater Manchester  \\\n",
              "0                           0                              0   \n",
              "1                           0                              0   \n",
              "2                           0                              0   \n",
              "3                           0                              0   \n",
              "4                           0                              0   \n",
              "5                           0                              0   \n",
              "6                           0                              0   \n",
              "7                           0                              0   \n",
              "8                           0                              0   \n",
              "9                           0                              0   \n",
              "10                          0                              0   \n",
              "11                          0                              0   \n",
              "12                          0                              0   \n",
              "13                          0                              0   \n",
              "14                          0                              0   \n",
              "\n",
              "    Force_Name_Northamptonshire  Force_Name_Warwickshire  Force_Name_Essex  \\\n",
              "0                             0                        0                 0   \n",
              "1                             0                        0                 0   \n",
              "2                             0                        0                 0   \n",
              "3                             0                        0                 0   \n",
              "4                             0                        0                 0   \n",
              "5                             0                        0                 0   \n",
              "6                             0                        0                 0   \n",
              "7                             0                        0                 0   \n",
              "8                             0                        0                 0   \n",
              "9                             0                        0                 0   \n",
              "10                            1                        0                 0   \n",
              "11                            0                        0                 0   \n",
              "12                            0                        0                 0   \n",
              "13                            0                        0                 0   \n",
              "14                            0                        1                 0   \n",
              "\n",
              "    Force_Name_Lancashire  Force_Name_Cheshire  ...  \\\n",
              "0                       0                    0  ...   \n",
              "1                       0                    0  ...   \n",
              "2                       0                    0  ...   \n",
              "3                       0                    0  ...   \n",
              "4                       0                    0  ...   \n",
              "5                       0                    0  ...   \n",
              "6                       0                    0  ...   \n",
              "7                       0                    0  ...   \n",
              "8                       0                    0  ...   \n",
              "9                       0                    0  ...   \n",
              "10                      0                    0  ...   \n",
              "11                      0                    0  ...   \n",
              "12                      0                    0  ...   \n",
              "13                      0                    0  ...   \n",
              "14                      0                    0  ...   \n",
              "\n",
              "    New_ONS_sub_offence_group_Vehicle offences  \\\n",
              "0                                            0   \n",
              "1                                            0   \n",
              "2                                            0   \n",
              "3                                            0   \n",
              "4                                            0   \n",
              "5                                            0   \n",
              "6                                            0   \n",
              "7                                            0   \n",
              "8                                            0   \n",
              "9                                            0   \n",
              "10                                           0   \n",
              "11                                           0   \n",
              "12                                           0   \n",
              "13                                           0   \n",
              "14                                           0   \n",
              "\n",
              "    New_ONS_sub_offence_group_Rape  \\\n",
              "0                                0   \n",
              "1                                0   \n",
              "2                                0   \n",
              "3                                0   \n",
              "4                                0   \n",
              "5                                0   \n",
              "6                                0   \n",
              "7                                0   \n",
              "8                                0   \n",
              "9                                0   \n",
              "10                               0   \n",
              "11                               0   \n",
              "12                               0   \n",
              "13                               0   \n",
              "14                               0   \n",
              "\n",
              "    New_ONS_sub_offence_group_Possession of drugs  \\\n",
              "0                                               0   \n",
              "1                                               0   \n",
              "2                                               0   \n",
              "3                                               0   \n",
              "4                                               0   \n",
              "5                                               0   \n",
              "6                                               0   \n",
              "7                                               0   \n",
              "8                                               1   \n",
              "9                                               0   \n",
              "10                                              0   \n",
              "11                                              0   \n",
              "12                                              0   \n",
              "13                                              0   \n",
              "14                                              0   \n",
              "\n",
              "    New_ONS_sub_offence_group_Non-domestic burglary  \\\n",
              "0                                                 0   \n",
              "1                                                 0   \n",
              "2                                                 0   \n",
              "3                                                 0   \n",
              "4                                                 0   \n",
              "5                                                 0   \n",
              "6                                                 0   \n",
              "7                                                 0   \n",
              "8                                                 0   \n",
              "9                                                 0   \n",
              "10                                                0   \n",
              "11                                                0   \n",
              "12                                                0   \n",
              "13                                                0   \n",
              "14                                                0   \n",
              "\n",
              "    New_ONS_sub_offence_group_Shoplifting  \\\n",
              "0                                       0   \n",
              "1                                       0   \n",
              "2                                       0   \n",
              "3                                       0   \n",
              "4                                       0   \n",
              "5                                       0   \n",
              "6                                       0   \n",
              "7                                       0   \n",
              "8                                       0   \n",
              "9                                       0   \n",
              "10                                      0   \n",
              "11                                      0   \n",
              "12                                      0   \n",
              "13                                      0   \n",
              "14                                      0   \n",
              "\n",
              "    New_ONS_sub_offence_group_Bicycle theft  \\\n",
              "0                                         0   \n",
              "1                                         0   \n",
              "2                                         0   \n",
              "3                                         0   \n",
              "4                                         0   \n",
              "5                                         0   \n",
              "6                                         0   \n",
              "7                                         0   \n",
              "8                                         0   \n",
              "9                                         0   \n",
              "10                                        0   \n",
              "11                                        0   \n",
              "12                                        0   \n",
              "13                                        0   \n",
              "14                                        0   \n",
              "\n",
              "    New_ONS_sub_offence_group_Robbery  \\\n",
              "0                                   0   \n",
              "1                                   0   \n",
              "2                                   0   \n",
              "3                                   0   \n",
              "4                                   0   \n",
              "5                                   0   \n",
              "6                                   0   \n",
              "7                                   0   \n",
              "8                                   0   \n",
              "9                                   0   \n",
              "10                                  0   \n",
              "11                                  0   \n",
              "12                                  0   \n",
              "13                                  0   \n",
              "14                                  0   \n",
              "\n",
              "    New_ONS_sub_offence_group_Public order offences  \\\n",
              "0                                                 0   \n",
              "1                                                 0   \n",
              "2                                                 0   \n",
              "3                                                 0   \n",
              "4                                                 1   \n",
              "5                                                 0   \n",
              "6                                                 0   \n",
              "7                                                 0   \n",
              "8                                                 0   \n",
              "9                                                 0   \n",
              "10                                                0   \n",
              "11                                                0   \n",
              "12                                                0   \n",
              "13                                                0   \n",
              "14                                                0   \n",
              "\n",
              "    New_ONS_sub_offence_group_Theft from the person  \\\n",
              "0                                                 0   \n",
              "1                                                 0   \n",
              "2                                                 0   \n",
              "3                                                 0   \n",
              "4                                                 0   \n",
              "5                                                 0   \n",
              "6                                                 0   \n",
              "7                                                 0   \n",
              "8                                                 0   \n",
              "9                                                 0   \n",
              "10                                                0   \n",
              "11                                                0   \n",
              "12                                                0   \n",
              "13                                                0   \n",
              "14                                                0   \n",
              "\n",
              "    New_ONS_sub_offence_group_Trafficking of drugs  \n",
              "0                                                0  \n",
              "1                                                0  \n",
              "2                                                0  \n",
              "3                                                0  \n",
              "4                                                0  \n",
              "5                                                0  \n",
              "6                                                0  \n",
              "7                                                0  \n",
              "8                                                0  \n",
              "9                                                0  \n",
              "10                                               0  \n",
              "11                                               0  \n",
              "12                                               0  \n",
              "13                                               0  \n",
              "14                                               0  \n",
              "\n",
              "[15 rows x 341 columns]"
            ],
            "text/html": [
              "\n",
              "  <div id=\"df-1305a823-1e3b-4934-b2c3-5b79ef61d2cd\" class=\"colab-df-container\">\n",
              "    <div>\n",
              "<style scoped>\n",
              "    .dataframe tbody tr th:only-of-type {\n",
              "        vertical-align: middle;\n",
              "    }\n",
              "\n",
              "    .dataframe tbody tr th {\n",
              "        vertical-align: top;\n",
              "    }\n",
              "\n",
              "    .dataframe thead th {\n",
              "        text-align: right;\n",
              "    }\n",
              "</style>\n",
              "<table border=\"1\" class=\"dataframe\">\n",
              "  <thead>\n",
              "    <tr style=\"text-align: right;\">\n",
              "      <th></th>\n",
              "      <th>Financial_Year</th>\n",
              "      <th>Financial_Quarter</th>\n",
              "      <th>Force_Name_Dorset</th>\n",
              "      <th>Force_Name_Cambridgeshire</th>\n",
              "      <th>Force_Name_Greater Manchester</th>\n",
              "      <th>Force_Name_Northamptonshire</th>\n",
              "      <th>Force_Name_Warwickshire</th>\n",
              "      <th>Force_Name_Essex</th>\n",
              "      <th>Force_Name_Lancashire</th>\n",
              "      <th>Force_Name_Cheshire</th>\n",
              "      <th>...</th>\n",
              "      <th>New_ONS_sub_offence_group_Vehicle offences</th>\n",
              "      <th>New_ONS_sub_offence_group_Rape</th>\n",
              "      <th>New_ONS_sub_offence_group_Possession of drugs</th>\n",
              "      <th>New_ONS_sub_offence_group_Non-domestic burglary</th>\n",
              "      <th>New_ONS_sub_offence_group_Shoplifting</th>\n",
              "      <th>New_ONS_sub_offence_group_Bicycle theft</th>\n",
              "      <th>New_ONS_sub_offence_group_Robbery</th>\n",
              "      <th>New_ONS_sub_offence_group_Public order offences</th>\n",
              "      <th>New_ONS_sub_offence_group_Theft from the person</th>\n",
              "      <th>New_ONS_sub_offence_group_Trafficking of drugs</th>\n",
              "    </tr>\n",
              "  </thead>\n",
              "  <tbody>\n",
              "    <tr>\n",
              "      <th>0</th>\n",
              "      <td>2024</td>\n",
              "      <td>1</td>\n",
              "      <td>0</td>\n",
              "      <td>0</td>\n",
              "      <td>0</td>\n",
              "      <td>0</td>\n",
              "      <td>0</td>\n",
              "      <td>0</td>\n",
              "      <td>0</td>\n",
              "      <td>0</td>\n",
              "      <td>...</td>\n",
              "      <td>0</td>\n",
              "      <td>0</td>\n",
              "      <td>0</td>\n",
              "      <td>0</td>\n",
              "      <td>0</td>\n",
              "      <td>0</td>\n",
              "      <td>0</td>\n",
              "      <td>0</td>\n",
              "      <td>0</td>\n",
              "      <td>0</td>\n",
              "    </tr>\n",
              "    <tr>\n",
              "      <th>1</th>\n",
              "      <td>2024</td>\n",
              "      <td>3</td>\n",
              "      <td>0</td>\n",
              "      <td>0</td>\n",
              "      <td>0</td>\n",
              "      <td>0</td>\n",
              "      <td>0</td>\n",
              "      <td>0</td>\n",
              "      <td>0</td>\n",
              "      <td>0</td>\n",
              "      <td>...</td>\n",
              "      <td>0</td>\n",
              "      <td>0</td>\n",
              "      <td>0</td>\n",
              "      <td>0</td>\n",
              "      <td>0</td>\n",
              "      <td>0</td>\n",
              "      <td>0</td>\n",
              "      <td>0</td>\n",
              "      <td>0</td>\n",
              "      <td>0</td>\n",
              "    </tr>\n",
              "    <tr>\n",
              "      <th>2</th>\n",
              "      <td>2024</td>\n",
              "      <td>2</td>\n",
              "      <td>0</td>\n",
              "      <td>0</td>\n",
              "      <td>0</td>\n",
              "      <td>0</td>\n",
              "      <td>0</td>\n",
              "      <td>0</td>\n",
              "      <td>0</td>\n",
              "      <td>0</td>\n",
              "      <td>...</td>\n",
              "      <td>0</td>\n",
              "      <td>0</td>\n",
              "      <td>0</td>\n",
              "      <td>0</td>\n",
              "      <td>0</td>\n",
              "      <td>0</td>\n",
              "      <td>0</td>\n",
              "      <td>0</td>\n",
              "      <td>0</td>\n",
              "      <td>0</td>\n",
              "    </tr>\n",
              "    <tr>\n",
              "      <th>3</th>\n",
              "      <td>2024</td>\n",
              "      <td>4</td>\n",
              "      <td>0</td>\n",
              "      <td>0</td>\n",
              "      <td>0</td>\n",
              "      <td>0</td>\n",
              "      <td>0</td>\n",
              "      <td>0</td>\n",
              "      <td>0</td>\n",
              "      <td>0</td>\n",
              "      <td>...</td>\n",
              "      <td>0</td>\n",
              "      <td>0</td>\n",
              "      <td>0</td>\n",
              "      <td>0</td>\n",
              "      <td>0</td>\n",
              "      <td>0</td>\n",
              "      <td>0</td>\n",
              "      <td>0</td>\n",
              "      <td>0</td>\n",
              "      <td>0</td>\n",
              "    </tr>\n",
              "    <tr>\n",
              "      <th>4</th>\n",
              "      <td>2024</td>\n",
              "      <td>2</td>\n",
              "      <td>0</td>\n",
              "      <td>0</td>\n",
              "      <td>0</td>\n",
              "      <td>0</td>\n",
              "      <td>0</td>\n",
              "      <td>0</td>\n",
              "      <td>0</td>\n",
              "      <td>0</td>\n",
              "      <td>...</td>\n",
              "      <td>0</td>\n",
              "      <td>0</td>\n",
              "      <td>0</td>\n",
              "      <td>0</td>\n",
              "      <td>0</td>\n",
              "      <td>0</td>\n",
              "      <td>0</td>\n",
              "      <td>1</td>\n",
              "      <td>0</td>\n",
              "      <td>0</td>\n",
              "    </tr>\n",
              "    <tr>\n",
              "      <th>5</th>\n",
              "      <td>2025</td>\n",
              "      <td>4</td>\n",
              "      <td>0</td>\n",
              "      <td>0</td>\n",
              "      <td>0</td>\n",
              "      <td>0</td>\n",
              "      <td>0</td>\n",
              "      <td>0</td>\n",
              "      <td>0</td>\n",
              "      <td>0</td>\n",
              "      <td>...</td>\n",
              "      <td>0</td>\n",
              "      <td>0</td>\n",
              "      <td>0</td>\n",
              "      <td>0</td>\n",
              "      <td>0</td>\n",
              "      <td>0</td>\n",
              "      <td>0</td>\n",
              "      <td>0</td>\n",
              "      <td>0</td>\n",
              "      <td>0</td>\n",
              "    </tr>\n",
              "    <tr>\n",
              "      <th>6</th>\n",
              "      <td>2025</td>\n",
              "      <td>3</td>\n",
              "      <td>0</td>\n",
              "      <td>0</td>\n",
              "      <td>0</td>\n",
              "      <td>0</td>\n",
              "      <td>0</td>\n",
              "      <td>0</td>\n",
              "      <td>0</td>\n",
              "      <td>0</td>\n",
              "      <td>...</td>\n",
              "      <td>0</td>\n",
              "      <td>0</td>\n",
              "      <td>0</td>\n",
              "      <td>0</td>\n",
              "      <td>0</td>\n",
              "      <td>0</td>\n",
              "      <td>0</td>\n",
              "      <td>0</td>\n",
              "      <td>0</td>\n",
              "      <td>0</td>\n",
              "    </tr>\n",
              "    <tr>\n",
              "      <th>7</th>\n",
              "      <td>2025</td>\n",
              "      <td>2</td>\n",
              "      <td>0</td>\n",
              "      <td>0</td>\n",
              "      <td>0</td>\n",
              "      <td>0</td>\n",
              "      <td>0</td>\n",
              "      <td>0</td>\n",
              "      <td>0</td>\n",
              "      <td>0</td>\n",
              "      <td>...</td>\n",
              "      <td>0</td>\n",
              "      <td>0</td>\n",
              "      <td>0</td>\n",
              "      <td>0</td>\n",
              "      <td>0</td>\n",
              "      <td>0</td>\n",
              "      <td>0</td>\n",
              "      <td>0</td>\n",
              "      <td>0</td>\n",
              "      <td>0</td>\n",
              "    </tr>\n",
              "    <tr>\n",
              "      <th>8</th>\n",
              "      <td>2025</td>\n",
              "      <td>4</td>\n",
              "      <td>0</td>\n",
              "      <td>0</td>\n",
              "      <td>0</td>\n",
              "      <td>0</td>\n",
              "      <td>0</td>\n",
              "      <td>0</td>\n",
              "      <td>0</td>\n",
              "      <td>0</td>\n",
              "      <td>...</td>\n",
              "      <td>0</td>\n",
              "      <td>0</td>\n",
              "      <td>1</td>\n",
              "      <td>0</td>\n",
              "      <td>0</td>\n",
              "      <td>0</td>\n",
              "      <td>0</td>\n",
              "      <td>0</td>\n",
              "      <td>0</td>\n",
              "      <td>0</td>\n",
              "    </tr>\n",
              "    <tr>\n",
              "      <th>9</th>\n",
              "      <td>2026</td>\n",
              "      <td>3</td>\n",
              "      <td>0</td>\n",
              "      <td>0</td>\n",
              "      <td>0</td>\n",
              "      <td>0</td>\n",
              "      <td>0</td>\n",
              "      <td>0</td>\n",
              "      <td>0</td>\n",
              "      <td>0</td>\n",
              "      <td>...</td>\n",
              "      <td>0</td>\n",
              "      <td>0</td>\n",
              "      <td>0</td>\n",
              "      <td>0</td>\n",
              "      <td>0</td>\n",
              "      <td>0</td>\n",
              "      <td>0</td>\n",
              "      <td>0</td>\n",
              "      <td>0</td>\n",
              "      <td>0</td>\n",
              "    </tr>\n",
              "    <tr>\n",
              "      <th>10</th>\n",
              "      <td>2026</td>\n",
              "      <td>2</td>\n",
              "      <td>0</td>\n",
              "      <td>0</td>\n",
              "      <td>0</td>\n",
              "      <td>1</td>\n",
              "      <td>0</td>\n",
              "      <td>0</td>\n",
              "      <td>0</td>\n",
              "      <td>0</td>\n",
              "      <td>...</td>\n",
              "      <td>0</td>\n",
              "      <td>0</td>\n",
              "      <td>0</td>\n",
              "      <td>0</td>\n",
              "      <td>0</td>\n",
              "      <td>0</td>\n",
              "      <td>0</td>\n",
              "      <td>0</td>\n",
              "      <td>0</td>\n",
              "      <td>0</td>\n",
              "    </tr>\n",
              "    <tr>\n",
              "      <th>11</th>\n",
              "      <td>2026</td>\n",
              "      <td>3</td>\n",
              "      <td>0</td>\n",
              "      <td>0</td>\n",
              "      <td>0</td>\n",
              "      <td>0</td>\n",
              "      <td>0</td>\n",
              "      <td>0</td>\n",
              "      <td>0</td>\n",
              "      <td>0</td>\n",
              "      <td>...</td>\n",
              "      <td>0</td>\n",
              "      <td>0</td>\n",
              "      <td>0</td>\n",
              "      <td>0</td>\n",
              "      <td>0</td>\n",
              "      <td>0</td>\n",
              "      <td>0</td>\n",
              "      <td>0</td>\n",
              "      <td>0</td>\n",
              "      <td>0</td>\n",
              "    </tr>\n",
              "    <tr>\n",
              "      <th>12</th>\n",
              "      <td>2026</td>\n",
              "      <td>1</td>\n",
              "      <td>0</td>\n",
              "      <td>0</td>\n",
              "      <td>0</td>\n",
              "      <td>0</td>\n",
              "      <td>0</td>\n",
              "      <td>0</td>\n",
              "      <td>0</td>\n",
              "      <td>0</td>\n",
              "      <td>...</td>\n",
              "      <td>0</td>\n",
              "      <td>0</td>\n",
              "      <td>0</td>\n",
              "      <td>0</td>\n",
              "      <td>0</td>\n",
              "      <td>0</td>\n",
              "      <td>0</td>\n",
              "      <td>0</td>\n",
              "      <td>0</td>\n",
              "      <td>0</td>\n",
              "    </tr>\n",
              "    <tr>\n",
              "      <th>13</th>\n",
              "      <td>2026</td>\n",
              "      <td>1</td>\n",
              "      <td>0</td>\n",
              "      <td>0</td>\n",
              "      <td>0</td>\n",
              "      <td>0</td>\n",
              "      <td>0</td>\n",
              "      <td>0</td>\n",
              "      <td>0</td>\n",
              "      <td>0</td>\n",
              "      <td>...</td>\n",
              "      <td>0</td>\n",
              "      <td>0</td>\n",
              "      <td>0</td>\n",
              "      <td>0</td>\n",
              "      <td>0</td>\n",
              "      <td>0</td>\n",
              "      <td>0</td>\n",
              "      <td>0</td>\n",
              "      <td>0</td>\n",
              "      <td>0</td>\n",
              "    </tr>\n",
              "    <tr>\n",
              "      <th>14</th>\n",
              "      <td>2026</td>\n",
              "      <td>2</td>\n",
              "      <td>0</td>\n",
              "      <td>0</td>\n",
              "      <td>0</td>\n",
              "      <td>0</td>\n",
              "      <td>1</td>\n",
              "      <td>0</td>\n",
              "      <td>0</td>\n",
              "      <td>0</td>\n",
              "      <td>...</td>\n",
              "      <td>0</td>\n",
              "      <td>0</td>\n",
              "      <td>0</td>\n",
              "      <td>0</td>\n",
              "      <td>0</td>\n",
              "      <td>0</td>\n",
              "      <td>0</td>\n",
              "      <td>0</td>\n",
              "      <td>0</td>\n",
              "      <td>0</td>\n",
              "    </tr>\n",
              "  </tbody>\n",
              "</table>\n",
              "<p>15 rows × 341 columns</p>\n",
              "</div>\n",
              "    <div class=\"colab-df-buttons\">\n",
              "\n",
              "  <div class=\"colab-df-container\">\n",
              "    <button class=\"colab-df-convert\" onclick=\"convertToInteractive('df-1305a823-1e3b-4934-b2c3-5b79ef61d2cd')\"\n",
              "            title=\"Convert this dataframe to an interactive table.\"\n",
              "            style=\"display:none;\">\n",
              "\n",
              "  <svg xmlns=\"http://www.w3.org/2000/svg\" height=\"24px\" viewBox=\"0 -960 960 960\">\n",
              "    <path d=\"M120-120v-720h720v720H120Zm60-500h600v-160H180v160Zm220 220h160v-160H400v160Zm0 220h160v-160H400v160ZM180-400h160v-160H180v160Zm440 0h160v-160H620v160ZM180-180h160v-160H180v160Zm440 0h160v-160H620v160Z\"/>\n",
              "  </svg>\n",
              "    </button>\n",
              "\n",
              "  <style>\n",
              "    .colab-df-container {\n",
              "      display:flex;\n",
              "      gap: 12px;\n",
              "    }\n",
              "\n",
              "    .colab-df-convert {\n",
              "      background-color: #E8F0FE;\n",
              "      border: none;\n",
              "      border-radius: 50%;\n",
              "      cursor: pointer;\n",
              "      display: none;\n",
              "      fill: #1967D2;\n",
              "      height: 32px;\n",
              "      padding: 0 0 0 0;\n",
              "      width: 32px;\n",
              "    }\n",
              "\n",
              "    .colab-df-convert:hover {\n",
              "      background-color: #E2EBFA;\n",
              "      box-shadow: 0px 1px 2px rgba(60, 64, 67, 0.3), 0px 1px 3px 1px rgba(60, 64, 67, 0.15);\n",
              "      fill: #174EA6;\n",
              "    }\n",
              "\n",
              "    .colab-df-buttons div {\n",
              "      margin-bottom: 4px;\n",
              "    }\n",
              "\n",
              "    [theme=dark] .colab-df-convert {\n",
              "      background-color: #3B4455;\n",
              "      fill: #D2E3FC;\n",
              "    }\n",
              "\n",
              "    [theme=dark] .colab-df-convert:hover {\n",
              "      background-color: #434B5C;\n",
              "      box-shadow: 0px 1px 3px 1px rgba(0, 0, 0, 0.15);\n",
              "      filter: drop-shadow(0px 1px 2px rgba(0, 0, 0, 0.3));\n",
              "      fill: #FFFFFF;\n",
              "    }\n",
              "  </style>\n",
              "\n",
              "    <script>\n",
              "      const buttonEl =\n",
              "        document.querySelector('#df-1305a823-1e3b-4934-b2c3-5b79ef61d2cd button.colab-df-convert');\n",
              "      buttonEl.style.display =\n",
              "        google.colab.kernel.accessAllowed ? 'block' : 'none';\n",
              "\n",
              "      async function convertToInteractive(key) {\n",
              "        const element = document.querySelector('#df-1305a823-1e3b-4934-b2c3-5b79ef61d2cd');\n",
              "        const dataTable =\n",
              "          await google.colab.kernel.invokeFunction('convertToInteractive',\n",
              "                                                    [key], {});\n",
              "        if (!dataTable) return;\n",
              "\n",
              "        const docLinkHtml = 'Like what you see? Visit the ' +\n",
              "          '<a target=\"_blank\" href=https://colab.research.google.com/notebooks/data_table.ipynb>data table notebook</a>'\n",
              "          + ' to learn more about interactive tables.';\n",
              "        element.innerHTML = '';\n",
              "        dataTable['output_type'] = 'display_data';\n",
              "        await google.colab.output.renderOutput(dataTable, element);\n",
              "        const docLink = document.createElement('div');\n",
              "        docLink.innerHTML = docLinkHtml;\n",
              "        element.appendChild(docLink);\n",
              "      }\n",
              "    </script>\n",
              "  </div>\n",
              "\n",
              "\n",
              "<div id=\"df-2f6683b6-13e9-4eb7-b04a-2e038456921b\">\n",
              "  <button class=\"colab-df-quickchart\" onclick=\"quickchart('df-2f6683b6-13e9-4eb7-b04a-2e038456921b')\"\n",
              "            title=\"Suggest charts\"\n",
              "            style=\"display:none;\">\n",
              "\n",
              "<svg xmlns=\"http://www.w3.org/2000/svg\" height=\"24px\"viewBox=\"0 0 24 24\"\n",
              "     width=\"24px\">\n",
              "    <g>\n",
              "        <path d=\"M19 3H5c-1.1 0-2 .9-2 2v14c0 1.1.9 2 2 2h14c1.1 0 2-.9 2-2V5c0-1.1-.9-2-2-2zM9 17H7v-7h2v7zm4 0h-2V7h2v10zm4 0h-2v-4h2v4z\"/>\n",
              "    </g>\n",
              "</svg>\n",
              "  </button>\n",
              "\n",
              "<style>\n",
              "  .colab-df-quickchart {\n",
              "      --bg-color: #E8F0FE;\n",
              "      --fill-color: #1967D2;\n",
              "      --hover-bg-color: #E2EBFA;\n",
              "      --hover-fill-color: #174EA6;\n",
              "      --disabled-fill-color: #AAA;\n",
              "      --disabled-bg-color: #DDD;\n",
              "  }\n",
              "\n",
              "  [theme=dark] .colab-df-quickchart {\n",
              "      --bg-color: #3B4455;\n",
              "      --fill-color: #D2E3FC;\n",
              "      --hover-bg-color: #434B5C;\n",
              "      --hover-fill-color: #FFFFFF;\n",
              "      --disabled-bg-color: #3B4455;\n",
              "      --disabled-fill-color: #666;\n",
              "  }\n",
              "\n",
              "  .colab-df-quickchart {\n",
              "    background-color: var(--bg-color);\n",
              "    border: none;\n",
              "    border-radius: 50%;\n",
              "    cursor: pointer;\n",
              "    display: none;\n",
              "    fill: var(--fill-color);\n",
              "    height: 32px;\n",
              "    padding: 0;\n",
              "    width: 32px;\n",
              "  }\n",
              "\n",
              "  .colab-df-quickchart:hover {\n",
              "    background-color: var(--hover-bg-color);\n",
              "    box-shadow: 0 1px 2px rgba(60, 64, 67, 0.3), 0 1px 3px 1px rgba(60, 64, 67, 0.15);\n",
              "    fill: var(--button-hover-fill-color);\n",
              "  }\n",
              "\n",
              "  .colab-df-quickchart-complete:disabled,\n",
              "  .colab-df-quickchart-complete:disabled:hover {\n",
              "    background-color: var(--disabled-bg-color);\n",
              "    fill: var(--disabled-fill-color);\n",
              "    box-shadow: none;\n",
              "  }\n",
              "\n",
              "  .colab-df-spinner {\n",
              "    border: 2px solid var(--fill-color);\n",
              "    border-color: transparent;\n",
              "    border-bottom-color: var(--fill-color);\n",
              "    animation:\n",
              "      spin 1s steps(1) infinite;\n",
              "  }\n",
              "\n",
              "  @keyframes spin {\n",
              "    0% {\n",
              "      border-color: transparent;\n",
              "      border-bottom-color: var(--fill-color);\n",
              "      border-left-color: var(--fill-color);\n",
              "    }\n",
              "    20% {\n",
              "      border-color: transparent;\n",
              "      border-left-color: var(--fill-color);\n",
              "      border-top-color: var(--fill-color);\n",
              "    }\n",
              "    30% {\n",
              "      border-color: transparent;\n",
              "      border-left-color: var(--fill-color);\n",
              "      border-top-color: var(--fill-color);\n",
              "      border-right-color: var(--fill-color);\n",
              "    }\n",
              "    40% {\n",
              "      border-color: transparent;\n",
              "      border-right-color: var(--fill-color);\n",
              "      border-top-color: var(--fill-color);\n",
              "    }\n",
              "    60% {\n",
              "      border-color: transparent;\n",
              "      border-right-color: var(--fill-color);\n",
              "    }\n",
              "    80% {\n",
              "      border-color: transparent;\n",
              "      border-right-color: var(--fill-color);\n",
              "      border-bottom-color: var(--fill-color);\n",
              "    }\n",
              "    90% {\n",
              "      border-color: transparent;\n",
              "      border-bottom-color: var(--fill-color);\n",
              "    }\n",
              "  }\n",
              "</style>\n",
              "\n",
              "  <script>\n",
              "    async function quickchart(key) {\n",
              "      const quickchartButtonEl =\n",
              "        document.querySelector('#' + key + ' button');\n",
              "      quickchartButtonEl.disabled = true;  // To prevent multiple clicks.\n",
              "      quickchartButtonEl.classList.add('colab-df-spinner');\n",
              "      try {\n",
              "        const charts = await google.colab.kernel.invokeFunction(\n",
              "            'suggestCharts', [key], {});\n",
              "      } catch (error) {\n",
              "        console.error('Error during call to suggestCharts:', error);\n",
              "      }\n",
              "      quickchartButtonEl.classList.remove('colab-df-spinner');\n",
              "      quickchartButtonEl.classList.add('colab-df-quickchart-complete');\n",
              "    }\n",
              "    (() => {\n",
              "      let quickchartButtonEl =\n",
              "        document.querySelector('#df-2f6683b6-13e9-4eb7-b04a-2e038456921b button');\n",
              "      quickchartButtonEl.style.display =\n",
              "        google.colab.kernel.accessAllowed ? 'block' : 'none';\n",
              "    })();\n",
              "  </script>\n",
              "</div>\n",
              "    </div>\n",
              "  </div>\n"
            ]
          },
          "metadata": {},
          "execution_count": 63
        }
      ]
    },
    {
      "cell_type": "markdown",
      "source": [
        "### Loads the saved model\n",
        "- defined functions to load model from file path and function which uses loaded model to make a prediction on future data."
      ],
      "metadata": {
        "id": "YJla0LeUauXK"
      }
    },
    {
      "cell_type": "code",
      "source": [
        "# function to load model\n",
        "def load_model(filepath: str) -> lr:\n",
        "  with open(filepath, 'rb') as file:\n",
        "    model = pickle.load(file)\n",
        "  return model\n",
        "\n",
        "\n",
        "# function to make prediction using model\n",
        "def make_prediction(predict_df: dict)-> dict:\n",
        "  filepath = '/content/model_lr.pkl'\n",
        "  linear_Reg = load_model(filepath)\n",
        "  predictions = linear_Reg.predict(predict_df)\n",
        "  return predictions"
      ],
      "metadata": {
        "id": "SqRljO-DZUn7"
      },
      "execution_count": 64,
      "outputs": []
    },
    {
      "cell_type": "markdown",
      "source": [
        "### Making predictions on future data\n"
      ],
      "metadata": {
        "id": "V2nIpifAtetz"
      }
    },
    {
      "cell_type": "code",
      "source": [
        "predictions = make_prediction(pred_df)"
      ],
      "metadata": {
        "id": "QC4yvERNi_wL"
      },
      "execution_count": 65,
      "outputs": []
    },
    {
      "cell_type": "code",
      "source": [
        "pred_df['Predictions'] = predictions.round()"
      ],
      "metadata": {
        "colab": {
          "base_uri": "https://localhost:8080/"
        },
        "id": "s3zCjGCtprtX",
        "outputId": "97ce4235-cc31-4bb0-a309-342a5c76051d"
      },
      "execution_count": 66,
      "outputs": [
        {
          "output_type": "stream",
          "name": "stderr",
          "text": [
            "<ipython-input-66-80835ca52d46>:1: SettingWithCopyWarning: \n",
            "A value is trying to be set on a copy of a slice from a DataFrame.\n",
            "Try using .loc[row_indexer,col_indexer] = value instead\n",
            "\n",
            "See the caveats in the documentation: https://pandas.pydata.org/pandas-docs/stable/user_guide/indexing.html#returning-a-view-versus-a-copy\n",
            "  pred_df['Predictions'] = predictions.round()\n"
          ]
        }
      ]
    },
    {
      "cell_type": "code",
      "source": [
        "final_pred = pred_df[['Financial_Year', 'Financial_Quarter', 'Predictions']]\n",
        "mask = final_pred['Predictions'] > 0\n",
        "final_pred = final_pred[mask].head(8)"
      ],
      "metadata": {
        "id": "Koa0-CTmt_w-"
      },
      "execution_count": 67,
      "outputs": []
    },
    {
      "cell_type": "markdown",
      "source": [
        "### Summary of Future Predictions\n",
        "- Using our linear regressor, we were able to predict the possible number of offences for the year 2024, 2025, 2026 for different quarters.\n",
        "\n",
        "- The result have been put into a table below:"
      ],
      "metadata": {
        "id": "W0s6QWH6wNM2"
      }
    },
    {
      "cell_type": "code",
      "source": [
        "final_pred"
      ],
      "metadata": {
        "colab": {
          "base_uri": "https://localhost:8080/",
          "height": 300
        },
        "id": "y_dk2SKLv3GS",
        "outputId": "6fcd9821-b3cf-4bbd-b1fe-5e579ba70e24"
      },
      "execution_count": 68,
      "outputs": [
        {
          "output_type": "execute_result",
          "data": {
            "text/plain": [
              "    Financial_Year  Financial_Quarter  Predictions\n",
              "0             2024                  1         60.0\n",
              "1             2024                  3         25.0\n",
              "4             2024                  2        641.0\n",
              "5             2025                  4          2.0\n",
              "6             2025                  3         75.0\n",
              "7             2025                  2         78.0\n",
              "8             2025                  4        339.0\n",
              "12            2026                  1         89.0"
            ],
            "text/html": [
              "\n",
              "  <div id=\"df-ad5a2772-c14a-450b-948f-3894c7ea09c9\" class=\"colab-df-container\">\n",
              "    <div>\n",
              "<style scoped>\n",
              "    .dataframe tbody tr th:only-of-type {\n",
              "        vertical-align: middle;\n",
              "    }\n",
              "\n",
              "    .dataframe tbody tr th {\n",
              "        vertical-align: top;\n",
              "    }\n",
              "\n",
              "    .dataframe thead th {\n",
              "        text-align: right;\n",
              "    }\n",
              "</style>\n",
              "<table border=\"1\" class=\"dataframe\">\n",
              "  <thead>\n",
              "    <tr style=\"text-align: right;\">\n",
              "      <th></th>\n",
              "      <th>Financial_Year</th>\n",
              "      <th>Financial_Quarter</th>\n",
              "      <th>Predictions</th>\n",
              "    </tr>\n",
              "  </thead>\n",
              "  <tbody>\n",
              "    <tr>\n",
              "      <th>0</th>\n",
              "      <td>2024</td>\n",
              "      <td>1</td>\n",
              "      <td>60.0</td>\n",
              "    </tr>\n",
              "    <tr>\n",
              "      <th>1</th>\n",
              "      <td>2024</td>\n",
              "      <td>3</td>\n",
              "      <td>25.0</td>\n",
              "    </tr>\n",
              "    <tr>\n",
              "      <th>4</th>\n",
              "      <td>2024</td>\n",
              "      <td>2</td>\n",
              "      <td>641.0</td>\n",
              "    </tr>\n",
              "    <tr>\n",
              "      <th>5</th>\n",
              "      <td>2025</td>\n",
              "      <td>4</td>\n",
              "      <td>2.0</td>\n",
              "    </tr>\n",
              "    <tr>\n",
              "      <th>6</th>\n",
              "      <td>2025</td>\n",
              "      <td>3</td>\n",
              "      <td>75.0</td>\n",
              "    </tr>\n",
              "    <tr>\n",
              "      <th>7</th>\n",
              "      <td>2025</td>\n",
              "      <td>2</td>\n",
              "      <td>78.0</td>\n",
              "    </tr>\n",
              "    <tr>\n",
              "      <th>8</th>\n",
              "      <td>2025</td>\n",
              "      <td>4</td>\n",
              "      <td>339.0</td>\n",
              "    </tr>\n",
              "    <tr>\n",
              "      <th>12</th>\n",
              "      <td>2026</td>\n",
              "      <td>1</td>\n",
              "      <td>89.0</td>\n",
              "    </tr>\n",
              "  </tbody>\n",
              "</table>\n",
              "</div>\n",
              "    <div class=\"colab-df-buttons\">\n",
              "\n",
              "  <div class=\"colab-df-container\">\n",
              "    <button class=\"colab-df-convert\" onclick=\"convertToInteractive('df-ad5a2772-c14a-450b-948f-3894c7ea09c9')\"\n",
              "            title=\"Convert this dataframe to an interactive table.\"\n",
              "            style=\"display:none;\">\n",
              "\n",
              "  <svg xmlns=\"http://www.w3.org/2000/svg\" height=\"24px\" viewBox=\"0 -960 960 960\">\n",
              "    <path d=\"M120-120v-720h720v720H120Zm60-500h600v-160H180v160Zm220 220h160v-160H400v160Zm0 220h160v-160H400v160ZM180-400h160v-160H180v160Zm440 0h160v-160H620v160ZM180-180h160v-160H180v160Zm440 0h160v-160H620v160Z\"/>\n",
              "  </svg>\n",
              "    </button>\n",
              "\n",
              "  <style>\n",
              "    .colab-df-container {\n",
              "      display:flex;\n",
              "      gap: 12px;\n",
              "    }\n",
              "\n",
              "    .colab-df-convert {\n",
              "      background-color: #E8F0FE;\n",
              "      border: none;\n",
              "      border-radius: 50%;\n",
              "      cursor: pointer;\n",
              "      display: none;\n",
              "      fill: #1967D2;\n",
              "      height: 32px;\n",
              "      padding: 0 0 0 0;\n",
              "      width: 32px;\n",
              "    }\n",
              "\n",
              "    .colab-df-convert:hover {\n",
              "      background-color: #E2EBFA;\n",
              "      box-shadow: 0px 1px 2px rgba(60, 64, 67, 0.3), 0px 1px 3px 1px rgba(60, 64, 67, 0.15);\n",
              "      fill: #174EA6;\n",
              "    }\n",
              "\n",
              "    .colab-df-buttons div {\n",
              "      margin-bottom: 4px;\n",
              "    }\n",
              "\n",
              "    [theme=dark] .colab-df-convert {\n",
              "      background-color: #3B4455;\n",
              "      fill: #D2E3FC;\n",
              "    }\n",
              "\n",
              "    [theme=dark] .colab-df-convert:hover {\n",
              "      background-color: #434B5C;\n",
              "      box-shadow: 0px 1px 3px 1px rgba(0, 0, 0, 0.15);\n",
              "      filter: drop-shadow(0px 1px 2px rgba(0, 0, 0, 0.3));\n",
              "      fill: #FFFFFF;\n",
              "    }\n",
              "  </style>\n",
              "\n",
              "    <script>\n",
              "      const buttonEl =\n",
              "        document.querySelector('#df-ad5a2772-c14a-450b-948f-3894c7ea09c9 button.colab-df-convert');\n",
              "      buttonEl.style.display =\n",
              "        google.colab.kernel.accessAllowed ? 'block' : 'none';\n",
              "\n",
              "      async function convertToInteractive(key) {\n",
              "        const element = document.querySelector('#df-ad5a2772-c14a-450b-948f-3894c7ea09c9');\n",
              "        const dataTable =\n",
              "          await google.colab.kernel.invokeFunction('convertToInteractive',\n",
              "                                                    [key], {});\n",
              "        if (!dataTable) return;\n",
              "\n",
              "        const docLinkHtml = 'Like what you see? Visit the ' +\n",
              "          '<a target=\"_blank\" href=https://colab.research.google.com/notebooks/data_table.ipynb>data table notebook</a>'\n",
              "          + ' to learn more about interactive tables.';\n",
              "        element.innerHTML = '';\n",
              "        dataTable['output_type'] = 'display_data';\n",
              "        await google.colab.output.renderOutput(dataTable, element);\n",
              "        const docLink = document.createElement('div');\n",
              "        docLink.innerHTML = docLinkHtml;\n",
              "        element.appendChild(docLink);\n",
              "      }\n",
              "    </script>\n",
              "  </div>\n",
              "\n",
              "\n",
              "<div id=\"df-92a1459d-86a8-4693-8b02-62f2c5cb9bc8\">\n",
              "  <button class=\"colab-df-quickchart\" onclick=\"quickchart('df-92a1459d-86a8-4693-8b02-62f2c5cb9bc8')\"\n",
              "            title=\"Suggest charts\"\n",
              "            style=\"display:none;\">\n",
              "\n",
              "<svg xmlns=\"http://www.w3.org/2000/svg\" height=\"24px\"viewBox=\"0 0 24 24\"\n",
              "     width=\"24px\">\n",
              "    <g>\n",
              "        <path d=\"M19 3H5c-1.1 0-2 .9-2 2v14c0 1.1.9 2 2 2h14c1.1 0 2-.9 2-2V5c0-1.1-.9-2-2-2zM9 17H7v-7h2v7zm4 0h-2V7h2v10zm4 0h-2v-4h2v4z\"/>\n",
              "    </g>\n",
              "</svg>\n",
              "  </button>\n",
              "\n",
              "<style>\n",
              "  .colab-df-quickchart {\n",
              "      --bg-color: #E8F0FE;\n",
              "      --fill-color: #1967D2;\n",
              "      --hover-bg-color: #E2EBFA;\n",
              "      --hover-fill-color: #174EA6;\n",
              "      --disabled-fill-color: #AAA;\n",
              "      --disabled-bg-color: #DDD;\n",
              "  }\n",
              "\n",
              "  [theme=dark] .colab-df-quickchart {\n",
              "      --bg-color: #3B4455;\n",
              "      --fill-color: #D2E3FC;\n",
              "      --hover-bg-color: #434B5C;\n",
              "      --hover-fill-color: #FFFFFF;\n",
              "      --disabled-bg-color: #3B4455;\n",
              "      --disabled-fill-color: #666;\n",
              "  }\n",
              "\n",
              "  .colab-df-quickchart {\n",
              "    background-color: var(--bg-color);\n",
              "    border: none;\n",
              "    border-radius: 50%;\n",
              "    cursor: pointer;\n",
              "    display: none;\n",
              "    fill: var(--fill-color);\n",
              "    height: 32px;\n",
              "    padding: 0;\n",
              "    width: 32px;\n",
              "  }\n",
              "\n",
              "  .colab-df-quickchart:hover {\n",
              "    background-color: var(--hover-bg-color);\n",
              "    box-shadow: 0 1px 2px rgba(60, 64, 67, 0.3), 0 1px 3px 1px rgba(60, 64, 67, 0.15);\n",
              "    fill: var(--button-hover-fill-color);\n",
              "  }\n",
              "\n",
              "  .colab-df-quickchart-complete:disabled,\n",
              "  .colab-df-quickchart-complete:disabled:hover {\n",
              "    background-color: var(--disabled-bg-color);\n",
              "    fill: var(--disabled-fill-color);\n",
              "    box-shadow: none;\n",
              "  }\n",
              "\n",
              "  .colab-df-spinner {\n",
              "    border: 2px solid var(--fill-color);\n",
              "    border-color: transparent;\n",
              "    border-bottom-color: var(--fill-color);\n",
              "    animation:\n",
              "      spin 1s steps(1) infinite;\n",
              "  }\n",
              "\n",
              "  @keyframes spin {\n",
              "    0% {\n",
              "      border-color: transparent;\n",
              "      border-bottom-color: var(--fill-color);\n",
              "      border-left-color: var(--fill-color);\n",
              "    }\n",
              "    20% {\n",
              "      border-color: transparent;\n",
              "      border-left-color: var(--fill-color);\n",
              "      border-top-color: var(--fill-color);\n",
              "    }\n",
              "    30% {\n",
              "      border-color: transparent;\n",
              "      border-left-color: var(--fill-color);\n",
              "      border-top-color: var(--fill-color);\n",
              "      border-right-color: var(--fill-color);\n",
              "    }\n",
              "    40% {\n",
              "      border-color: transparent;\n",
              "      border-right-color: var(--fill-color);\n",
              "      border-top-color: var(--fill-color);\n",
              "    }\n",
              "    60% {\n",
              "      border-color: transparent;\n",
              "      border-right-color: var(--fill-color);\n",
              "    }\n",
              "    80% {\n",
              "      border-color: transparent;\n",
              "      border-right-color: var(--fill-color);\n",
              "      border-bottom-color: var(--fill-color);\n",
              "    }\n",
              "    90% {\n",
              "      border-color: transparent;\n",
              "      border-bottom-color: var(--fill-color);\n",
              "    }\n",
              "  }\n",
              "</style>\n",
              "\n",
              "  <script>\n",
              "    async function quickchart(key) {\n",
              "      const quickchartButtonEl =\n",
              "        document.querySelector('#' + key + ' button');\n",
              "      quickchartButtonEl.disabled = true;  // To prevent multiple clicks.\n",
              "      quickchartButtonEl.classList.add('colab-df-spinner');\n",
              "      try {\n",
              "        const charts = await google.colab.kernel.invokeFunction(\n",
              "            'suggestCharts', [key], {});\n",
              "      } catch (error) {\n",
              "        console.error('Error during call to suggestCharts:', error);\n",
              "      }\n",
              "      quickchartButtonEl.classList.remove('colab-df-spinner');\n",
              "      quickchartButtonEl.classList.add('colab-df-quickchart-complete');\n",
              "    }\n",
              "    (() => {\n",
              "      let quickchartButtonEl =\n",
              "        document.querySelector('#df-92a1459d-86a8-4693-8b02-62f2c5cb9bc8 button');\n",
              "      quickchartButtonEl.style.display =\n",
              "        google.colab.kernel.accessAllowed ? 'block' : 'none';\n",
              "    })();\n",
              "  </script>\n",
              "</div>\n",
              "    </div>\n",
              "  </div>\n"
            ]
          },
          "metadata": {},
          "execution_count": 68
        }
      ]
    },
    {
      "cell_type": "code",
      "source": [],
      "metadata": {
        "id": "H16b4IVExFg0"
      },
      "execution_count": 68,
      "outputs": []
    }
  ],
  "metadata": {
    "kernelspec": {
      "display_name": "Python 3 (ipykernel)",
      "language": "python",
      "name": "python3"
    },
    "language_info": {
      "codemirror_mode": {
        "name": "ipython",
        "version": 3
      },
      "file_extension": ".py",
      "mimetype": "text/x-python",
      "name": "python",
      "nbconvert_exporter": "python",
      "pygments_lexer": "ipython3",
      "version": "3.11.7"
    },
    "colab": {
      "provenance": [],
      "toc_visible": true,
      "include_colab_link": true
    }
  },
  "nbformat": 4,
  "nbformat_minor": 0
}